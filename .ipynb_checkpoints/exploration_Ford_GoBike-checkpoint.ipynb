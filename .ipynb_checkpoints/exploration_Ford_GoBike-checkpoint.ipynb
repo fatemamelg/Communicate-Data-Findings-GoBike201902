{
 "cells": [
  {
   "cell_type": "markdown",
   "metadata": {},
   "source": [
    "# Ford GoBike Bike Trips in San Francisco (February 2019) Dataset Exploration\n",
    "## by Fatema Mahmoud\n",
    "\n",
    "## Preliminary Wrangling\n",
    "\n",
    "> This data set includes information about individual rides made in a bike-sharing system covering the greater San Francisco Bay area on February 2019."
   ]
  },
  {
   "cell_type": "code",
   "execution_count": 1,
   "metadata": {},
   "outputs": [],
   "source": [
    "# import all packages and set plots to be embedded inline\n",
    "import numpy as np\n",
    "import pandas as pd\n",
    "import matplotlib.pyplot as plt\n",
    "import seaborn as sb\n",
    "\n",
    "%matplotlib inline"
   ]
  },
  {
   "cell_type": "code",
   "execution_count": 2,
   "metadata": {
    "scrolled": false
   },
   "outputs": [
    {
     "name": "stdout",
     "output_type": "stream",
     "text": [
      "(183412, 16)\n"
     ]
    },
    {
     "data": {
      "text/html": [
       "<div>\n",
       "<style scoped>\n",
       "    .dataframe tbody tr th:only-of-type {\n",
       "        vertical-align: middle;\n",
       "    }\n",
       "\n",
       "    .dataframe tbody tr th {\n",
       "        vertical-align: top;\n",
       "    }\n",
       "\n",
       "    .dataframe thead th {\n",
       "        text-align: right;\n",
       "    }\n",
       "</style>\n",
       "<table border=\"1\" class=\"dataframe\">\n",
       "  <thead>\n",
       "    <tr style=\"text-align: right;\">\n",
       "      <th></th>\n",
       "      <th>duration_sec</th>\n",
       "      <th>start_time</th>\n",
       "      <th>end_time</th>\n",
       "      <th>start_station_id</th>\n",
       "      <th>start_station_name</th>\n",
       "      <th>start_station_latitude</th>\n",
       "      <th>start_station_longitude</th>\n",
       "      <th>end_station_id</th>\n",
       "      <th>end_station_name</th>\n",
       "      <th>end_station_latitude</th>\n",
       "      <th>end_station_longitude</th>\n",
       "      <th>bike_id</th>\n",
       "      <th>user_type</th>\n",
       "      <th>member_birth_year</th>\n",
       "      <th>member_gender</th>\n",
       "      <th>bike_share_for_all_trip</th>\n",
       "    </tr>\n",
       "  </thead>\n",
       "  <tbody>\n",
       "    <tr>\n",
       "      <th>0</th>\n",
       "      <td>52185</td>\n",
       "      <td>2019-02-28 17:32:10.1450</td>\n",
       "      <td>2019-03-01 08:01:55.9750</td>\n",
       "      <td>21.0</td>\n",
       "      <td>Montgomery St BART Station (Market St at 2nd St)</td>\n",
       "      <td>37.789625</td>\n",
       "      <td>-122.400811</td>\n",
       "      <td>13.0</td>\n",
       "      <td>Commercial St at Montgomery St</td>\n",
       "      <td>37.794231</td>\n",
       "      <td>-122.402923</td>\n",
       "      <td>4902</td>\n",
       "      <td>Customer</td>\n",
       "      <td>1984.0</td>\n",
       "      <td>Male</td>\n",
       "      <td>No</td>\n",
       "    </tr>\n",
       "    <tr>\n",
       "      <th>1</th>\n",
       "      <td>42521</td>\n",
       "      <td>2019-02-28 18:53:21.7890</td>\n",
       "      <td>2019-03-01 06:42:03.0560</td>\n",
       "      <td>23.0</td>\n",
       "      <td>The Embarcadero at Steuart St</td>\n",
       "      <td>37.791464</td>\n",
       "      <td>-122.391034</td>\n",
       "      <td>81.0</td>\n",
       "      <td>Berry St at 4th St</td>\n",
       "      <td>37.775880</td>\n",
       "      <td>-122.393170</td>\n",
       "      <td>2535</td>\n",
       "      <td>Customer</td>\n",
       "      <td>NaN</td>\n",
       "      <td>NaN</td>\n",
       "      <td>No</td>\n",
       "    </tr>\n",
       "    <tr>\n",
       "      <th>2</th>\n",
       "      <td>61854</td>\n",
       "      <td>2019-02-28 12:13:13.2180</td>\n",
       "      <td>2019-03-01 05:24:08.1460</td>\n",
       "      <td>86.0</td>\n",
       "      <td>Market St at Dolores St</td>\n",
       "      <td>37.769305</td>\n",
       "      <td>-122.426826</td>\n",
       "      <td>3.0</td>\n",
       "      <td>Powell St BART Station (Market St at 4th St)</td>\n",
       "      <td>37.786375</td>\n",
       "      <td>-122.404904</td>\n",
       "      <td>5905</td>\n",
       "      <td>Customer</td>\n",
       "      <td>1972.0</td>\n",
       "      <td>Male</td>\n",
       "      <td>No</td>\n",
       "    </tr>\n",
       "    <tr>\n",
       "      <th>3</th>\n",
       "      <td>36490</td>\n",
       "      <td>2019-02-28 17:54:26.0100</td>\n",
       "      <td>2019-03-01 04:02:36.8420</td>\n",
       "      <td>375.0</td>\n",
       "      <td>Grove St at Masonic Ave</td>\n",
       "      <td>37.774836</td>\n",
       "      <td>-122.446546</td>\n",
       "      <td>70.0</td>\n",
       "      <td>Central Ave at Fell St</td>\n",
       "      <td>37.773311</td>\n",
       "      <td>-122.444293</td>\n",
       "      <td>6638</td>\n",
       "      <td>Subscriber</td>\n",
       "      <td>1989.0</td>\n",
       "      <td>Other</td>\n",
       "      <td>No</td>\n",
       "    </tr>\n",
       "    <tr>\n",
       "      <th>4</th>\n",
       "      <td>1585</td>\n",
       "      <td>2019-02-28 23:54:18.5490</td>\n",
       "      <td>2019-03-01 00:20:44.0740</td>\n",
       "      <td>7.0</td>\n",
       "      <td>Frank H Ogawa Plaza</td>\n",
       "      <td>37.804562</td>\n",
       "      <td>-122.271738</td>\n",
       "      <td>222.0</td>\n",
       "      <td>10th Ave at E 15th St</td>\n",
       "      <td>37.792714</td>\n",
       "      <td>-122.248780</td>\n",
       "      <td>4898</td>\n",
       "      <td>Subscriber</td>\n",
       "      <td>1974.0</td>\n",
       "      <td>Male</td>\n",
       "      <td>Yes</td>\n",
       "    </tr>\n",
       "  </tbody>\n",
       "</table>\n",
       "</div>"
      ],
      "text/plain": [
       "   duration_sec                start_time                  end_time  \\\n",
       "0         52185  2019-02-28 17:32:10.1450  2019-03-01 08:01:55.9750   \n",
       "1         42521  2019-02-28 18:53:21.7890  2019-03-01 06:42:03.0560   \n",
       "2         61854  2019-02-28 12:13:13.2180  2019-03-01 05:24:08.1460   \n",
       "3         36490  2019-02-28 17:54:26.0100  2019-03-01 04:02:36.8420   \n",
       "4          1585  2019-02-28 23:54:18.5490  2019-03-01 00:20:44.0740   \n",
       "\n",
       "   start_station_id                                start_station_name  \\\n",
       "0              21.0  Montgomery St BART Station (Market St at 2nd St)   \n",
       "1              23.0                     The Embarcadero at Steuart St   \n",
       "2              86.0                           Market St at Dolores St   \n",
       "3             375.0                           Grove St at Masonic Ave   \n",
       "4               7.0                               Frank H Ogawa Plaza   \n",
       "\n",
       "   start_station_latitude  start_station_longitude  end_station_id  \\\n",
       "0               37.789625              -122.400811            13.0   \n",
       "1               37.791464              -122.391034            81.0   \n",
       "2               37.769305              -122.426826             3.0   \n",
       "3               37.774836              -122.446546            70.0   \n",
       "4               37.804562              -122.271738           222.0   \n",
       "\n",
       "                               end_station_name  end_station_latitude  \\\n",
       "0                Commercial St at Montgomery St             37.794231   \n",
       "1                            Berry St at 4th St             37.775880   \n",
       "2  Powell St BART Station (Market St at 4th St)             37.786375   \n",
       "3                        Central Ave at Fell St             37.773311   \n",
       "4                         10th Ave at E 15th St             37.792714   \n",
       "\n",
       "   end_station_longitude  bike_id   user_type  member_birth_year  \\\n",
       "0            -122.402923     4902    Customer             1984.0   \n",
       "1            -122.393170     2535    Customer                NaN   \n",
       "2            -122.404904     5905    Customer             1972.0   \n",
       "3            -122.444293     6638  Subscriber             1989.0   \n",
       "4            -122.248780     4898  Subscriber             1974.0   \n",
       "\n",
       "  member_gender bike_share_for_all_trip  \n",
       "0          Male                      No  \n",
       "1           NaN                      No  \n",
       "2          Male                      No  \n",
       "3         Other                      No  \n",
       "4          Male                     Yes  "
      ]
     },
     "execution_count": 2,
     "metadata": {},
     "output_type": "execute_result"
    }
   ],
   "source": [
    "df = pd.read_csv('201902-fordgobike-tripdata.csv')\n",
    "print(df.shape)\n",
    "df.head()"
   ]
  },
  {
   "cell_type": "code",
   "execution_count": 3,
   "metadata": {},
   "outputs": [
    {
     "name": "stdout",
     "output_type": "stream",
     "text": [
      "<class 'pandas.core.frame.DataFrame'>\n",
      "RangeIndex: 183412 entries, 0 to 183411\n",
      "Data columns (total 16 columns):\n",
      " #   Column                   Non-Null Count   Dtype  \n",
      "---  ------                   --------------   -----  \n",
      " 0   duration_sec             183412 non-null  int64  \n",
      " 1   start_time               183412 non-null  object \n",
      " 2   end_time                 183412 non-null  object \n",
      " 3   start_station_id         183215 non-null  float64\n",
      " 4   start_station_name       183215 non-null  object \n",
      " 5   start_station_latitude   183412 non-null  float64\n",
      " 6   start_station_longitude  183412 non-null  float64\n",
      " 7   end_station_id           183215 non-null  float64\n",
      " 8   end_station_name         183215 non-null  object \n",
      " 9   end_station_latitude     183412 non-null  float64\n",
      " 10  end_station_longitude    183412 non-null  float64\n",
      " 11  bike_id                  183412 non-null  int64  \n",
      " 12  user_type                183412 non-null  object \n",
      " 13  member_birth_year        175147 non-null  float64\n",
      " 14  member_gender            175147 non-null  object \n",
      " 15  bike_share_for_all_trip  183412 non-null  object \n",
      "dtypes: float64(7), int64(2), object(7)\n",
      "memory usage: 22.4+ MB\n"
     ]
    }
   ],
   "source": [
    "df.info()"
   ]
  },
  {
   "cell_type": "code",
   "execution_count": 4,
   "metadata": {},
   "outputs": [
    {
     "data": {
      "text/plain": [
       "duration_sec                 4752\n",
       "start_time                 183401\n",
       "end_time                   183397\n",
       "start_station_id              329\n",
       "start_station_name            329\n",
       "start_station_latitude        334\n",
       "start_station_longitude       335\n",
       "end_station_id                329\n",
       "end_station_name              329\n",
       "end_station_latitude          335\n",
       "end_station_longitude         335\n",
       "bike_id                      4646\n",
       "user_type                       2\n",
       "member_birth_year              75\n",
       "member_gender                   3\n",
       "bike_share_for_all_trip         2\n",
       "dtype: int64"
      ]
     },
     "execution_count": 4,
     "metadata": {},
     "output_type": "execute_result"
    }
   ],
   "source": [
    "df.nunique()"
   ]
  },
  {
   "cell_type": "code",
   "execution_count": 5,
   "metadata": {},
   "outputs": [
    {
     "data": {
      "text/plain": [
       "duration_sec                  0\n",
       "start_time                    0\n",
       "end_time                      0\n",
       "start_station_id            197\n",
       "start_station_name          197\n",
       "start_station_latitude        0\n",
       "start_station_longitude       0\n",
       "end_station_id              197\n",
       "end_station_name            197\n",
       "end_station_latitude          0\n",
       "end_station_longitude         0\n",
       "bike_id                       0\n",
       "user_type                     0\n",
       "member_birth_year          8265\n",
       "member_gender              8265\n",
       "bike_share_for_all_trip       0\n",
       "dtype: int64"
      ]
     },
     "execution_count": 5,
     "metadata": {},
     "output_type": "execute_result"
    }
   ],
   "source": [
    "df.isnull().sum()"
   ]
  },
  {
   "cell_type": "code",
   "execution_count": 6,
   "metadata": {},
   "outputs": [
    {
     "data": {
      "text/plain": [
       "array(['Customer', 'Subscriber'], dtype=object)"
      ]
     },
     "execution_count": 6,
     "metadata": {},
     "output_type": "execute_result"
    }
   ],
   "source": [
    "df.user_type.unique()"
   ]
  },
  {
   "cell_type": "code",
   "execution_count": 7,
   "metadata": {
    "scrolled": true
   },
   "outputs": [
    {
     "data": {
      "text/html": [
       "<div>\n",
       "<style scoped>\n",
       "    .dataframe tbody tr th:only-of-type {\n",
       "        vertical-align: middle;\n",
       "    }\n",
       "\n",
       "    .dataframe tbody tr th {\n",
       "        vertical-align: top;\n",
       "    }\n",
       "\n",
       "    .dataframe thead th {\n",
       "        text-align: right;\n",
       "    }\n",
       "</style>\n",
       "<table border=\"1\" class=\"dataframe\">\n",
       "  <thead>\n",
       "    <tr style=\"text-align: right;\">\n",
       "      <th></th>\n",
       "      <th>duration_sec</th>\n",
       "      <th>start_time</th>\n",
       "      <th>end_time</th>\n",
       "      <th>start_station_id</th>\n",
       "      <th>start_station_name</th>\n",
       "      <th>start_station_latitude</th>\n",
       "      <th>start_station_longitude</th>\n",
       "      <th>end_station_id</th>\n",
       "      <th>end_station_name</th>\n",
       "      <th>end_station_latitude</th>\n",
       "      <th>end_station_longitude</th>\n",
       "      <th>bike_id</th>\n",
       "      <th>user_type</th>\n",
       "      <th>member_birth_year</th>\n",
       "      <th>member_gender</th>\n",
       "      <th>bike_share_for_all_trip</th>\n",
       "    </tr>\n",
       "  </thead>\n",
       "  <tbody>\n",
       "    <tr>\n",
       "      <th>58795</th>\n",
       "      <td>716</td>\n",
       "      <td>2019-02-20 22:28:25.9700</td>\n",
       "      <td>2019-02-20 22:40:22.8700</td>\n",
       "      <td>NaN</td>\n",
       "      <td>NaN</td>\n",
       "      <td>37.41</td>\n",
       "      <td>-121.94</td>\n",
       "      <td>NaN</td>\n",
       "      <td>NaN</td>\n",
       "      <td>37.41</td>\n",
       "      <td>-121.95</td>\n",
       "      <td>4239</td>\n",
       "      <td>Customer</td>\n",
       "      <td>NaN</td>\n",
       "      <td>NaN</td>\n",
       "      <td>No</td>\n",
       "    </tr>\n",
       "    <tr>\n",
       "      <th>59280</th>\n",
       "      <td>740</td>\n",
       "      <td>2019-02-20 20:35:21.0110</td>\n",
       "      <td>2019-02-20 20:47:41.5620</td>\n",
       "      <td>NaN</td>\n",
       "      <td>NaN</td>\n",
       "      <td>37.41</td>\n",
       "      <td>-121.96</td>\n",
       "      <td>NaN</td>\n",
       "      <td>NaN</td>\n",
       "      <td>37.41</td>\n",
       "      <td>-121.94</td>\n",
       "      <td>4239</td>\n",
       "      <td>Customer</td>\n",
       "      <td>NaN</td>\n",
       "      <td>NaN</td>\n",
       "      <td>No</td>\n",
       "    </tr>\n",
       "  </tbody>\n",
       "</table>\n",
       "</div>"
      ],
      "text/plain": [
       "       duration_sec                start_time                  end_time  \\\n",
       "58795           716  2019-02-20 22:28:25.9700  2019-02-20 22:40:22.8700   \n",
       "59280           740  2019-02-20 20:35:21.0110  2019-02-20 20:47:41.5620   \n",
       "\n",
       "       start_station_id start_station_name  start_station_latitude  \\\n",
       "58795               NaN                NaN                   37.41   \n",
       "59280               NaN                NaN                   37.41   \n",
       "\n",
       "       start_station_longitude  end_station_id end_station_name  \\\n",
       "58795                  -121.94             NaN              NaN   \n",
       "59280                  -121.96             NaN              NaN   \n",
       "\n",
       "       end_station_latitude  end_station_longitude  bike_id user_type  \\\n",
       "58795                 37.41                -121.95     4239  Customer   \n",
       "59280                 37.41                -121.94     4239  Customer   \n",
       "\n",
       "       member_birth_year member_gender bike_share_for_all_trip  \n",
       "58795                NaN           NaN                      No  \n",
       "59280                NaN           NaN                      No  "
      ]
     },
     "execution_count": 7,
     "metadata": {},
     "output_type": "execute_result"
    }
   ],
   "source": [
    "df[df['start_station_id'].isnull() & df['member_birth_year'].isnull()]"
   ]
  },
  {
   "cell_type": "code",
   "execution_count": 8,
   "metadata": {},
   "outputs": [
    {
     "data": {
      "text/html": [
       "<div>\n",
       "<style scoped>\n",
       "    .dataframe tbody tr th:only-of-type {\n",
       "        vertical-align: middle;\n",
       "    }\n",
       "\n",
       "    .dataframe tbody tr th {\n",
       "        vertical-align: top;\n",
       "    }\n",
       "\n",
       "    .dataframe thead th {\n",
       "        text-align: right;\n",
       "    }\n",
       "</style>\n",
       "<table border=\"1\" class=\"dataframe\">\n",
       "  <thead>\n",
       "    <tr style=\"text-align: right;\">\n",
       "      <th></th>\n",
       "      <th>duration_sec</th>\n",
       "      <th>start_time</th>\n",
       "      <th>end_time</th>\n",
       "      <th>start_station_id</th>\n",
       "      <th>start_station_name</th>\n",
       "      <th>start_station_latitude</th>\n",
       "      <th>start_station_longitude</th>\n",
       "      <th>end_station_id</th>\n",
       "      <th>end_station_name</th>\n",
       "      <th>end_station_latitude</th>\n",
       "      <th>end_station_longitude</th>\n",
       "      <th>bike_id</th>\n",
       "      <th>user_type</th>\n",
       "      <th>member_birth_year</th>\n",
       "      <th>member_gender</th>\n",
       "      <th>bike_share_for_all_trip</th>\n",
       "    </tr>\n",
       "  </thead>\n",
       "  <tbody>\n",
       "    <tr>\n",
       "      <th>3625</th>\n",
       "      <td>142</td>\n",
       "      <td>2019-02-28 17:10:46.5290</td>\n",
       "      <td>2019-02-28 17:13:09.4310</td>\n",
       "      <td>NaN</td>\n",
       "      <td>NaN</td>\n",
       "      <td>37.41</td>\n",
       "      <td>-121.95</td>\n",
       "      <td>NaN</td>\n",
       "      <td>NaN</td>\n",
       "      <td>37.41</td>\n",
       "      <td>-121.96</td>\n",
       "      <td>4283</td>\n",
       "      <td>Subscriber</td>\n",
       "      <td>1988.0</td>\n",
       "      <td>Male</td>\n",
       "      <td>No</td>\n",
       "    </tr>\n",
       "    <tr>\n",
       "      <th>8499</th>\n",
       "      <td>240</td>\n",
       "      <td>2019-02-28 08:23:07.0920</td>\n",
       "      <td>2019-02-28 08:27:07.2890</td>\n",
       "      <td>NaN</td>\n",
       "      <td>NaN</td>\n",
       "      <td>37.41</td>\n",
       "      <td>-121.96</td>\n",
       "      <td>NaN</td>\n",
       "      <td>NaN</td>\n",
       "      <td>37.41</td>\n",
       "      <td>-121.95</td>\n",
       "      <td>4283</td>\n",
       "      <td>Subscriber</td>\n",
       "      <td>1988.0</td>\n",
       "      <td>Male</td>\n",
       "      <td>No</td>\n",
       "    </tr>\n",
       "    <tr>\n",
       "      <th>8783</th>\n",
       "      <td>883</td>\n",
       "      <td>2019-02-28 07:58:07.3720</td>\n",
       "      <td>2019-02-28 08:12:51.2760</td>\n",
       "      <td>NaN</td>\n",
       "      <td>NaN</td>\n",
       "      <td>37.41</td>\n",
       "      <td>-121.96</td>\n",
       "      <td>NaN</td>\n",
       "      <td>NaN</td>\n",
       "      <td>37.40</td>\n",
       "      <td>-121.94</td>\n",
       "      <td>4211</td>\n",
       "      <td>Subscriber</td>\n",
       "      <td>1980.0</td>\n",
       "      <td>Male</td>\n",
       "      <td>No</td>\n",
       "    </tr>\n",
       "    <tr>\n",
       "      <th>10967</th>\n",
       "      <td>116</td>\n",
       "      <td>2019-02-27 19:25:57.0360</td>\n",
       "      <td>2019-02-27 19:27:54.0260</td>\n",
       "      <td>NaN</td>\n",
       "      <td>NaN</td>\n",
       "      <td>37.41</td>\n",
       "      <td>-121.95</td>\n",
       "      <td>NaN</td>\n",
       "      <td>NaN</td>\n",
       "      <td>37.41</td>\n",
       "      <td>-121.95</td>\n",
       "      <td>4283</td>\n",
       "      <td>Subscriber</td>\n",
       "      <td>1988.0</td>\n",
       "      <td>Male</td>\n",
       "      <td>No</td>\n",
       "    </tr>\n",
       "    <tr>\n",
       "      <th>13945</th>\n",
       "      <td>399</td>\n",
       "      <td>2019-02-27 14:06:51.7720</td>\n",
       "      <td>2019-02-27 14:13:31.6720</td>\n",
       "      <td>NaN</td>\n",
       "      <td>NaN</td>\n",
       "      <td>37.41</td>\n",
       "      <td>-121.95</td>\n",
       "      <td>NaN</td>\n",
       "      <td>NaN</td>\n",
       "      <td>37.41</td>\n",
       "      <td>-121.96</td>\n",
       "      <td>3975</td>\n",
       "      <td>Subscriber</td>\n",
       "      <td>1995.0</td>\n",
       "      <td>Male</td>\n",
       "      <td>Yes</td>\n",
       "    </tr>\n",
       "    <tr>\n",
       "      <th>...</th>\n",
       "      <td>...</td>\n",
       "      <td>...</td>\n",
       "      <td>...</td>\n",
       "      <td>...</td>\n",
       "      <td>...</td>\n",
       "      <td>...</td>\n",
       "      <td>...</td>\n",
       "      <td>...</td>\n",
       "      <td>...</td>\n",
       "      <td>...</td>\n",
       "      <td>...</td>\n",
       "      <td>...</td>\n",
       "      <td>...</td>\n",
       "      <td>...</td>\n",
       "      <td>...</td>\n",
       "      <td>...</td>\n",
       "    </tr>\n",
       "    <tr>\n",
       "      <th>153088</th>\n",
       "      <td>789</td>\n",
       "      <td>2019-02-06 13:32:34.6330</td>\n",
       "      <td>2019-02-06 13:45:44.3340</td>\n",
       "      <td>NaN</td>\n",
       "      <td>NaN</td>\n",
       "      <td>37.41</td>\n",
       "      <td>-121.94</td>\n",
       "      <td>NaN</td>\n",
       "      <td>NaN</td>\n",
       "      <td>37.41</td>\n",
       "      <td>-121.96</td>\n",
       "      <td>4092</td>\n",
       "      <td>Subscriber</td>\n",
       "      <td>1999.0</td>\n",
       "      <td>Female</td>\n",
       "      <td>No</td>\n",
       "    </tr>\n",
       "    <tr>\n",
       "      <th>154695</th>\n",
       "      <td>968</td>\n",
       "      <td>2019-02-06 09:19:56.8780</td>\n",
       "      <td>2019-02-06 09:36:05.2380</td>\n",
       "      <td>NaN</td>\n",
       "      <td>NaN</td>\n",
       "      <td>37.41</td>\n",
       "      <td>-121.96</td>\n",
       "      <td>NaN</td>\n",
       "      <td>NaN</td>\n",
       "      <td>37.41</td>\n",
       "      <td>-121.94</td>\n",
       "      <td>4092</td>\n",
       "      <td>Subscriber</td>\n",
       "      <td>1999.0</td>\n",
       "      <td>Female</td>\n",
       "      <td>No</td>\n",
       "    </tr>\n",
       "    <tr>\n",
       "      <th>155470</th>\n",
       "      <td>984</td>\n",
       "      <td>2019-02-06 08:39:02.6480</td>\n",
       "      <td>2019-02-06 08:55:26.6830</td>\n",
       "      <td>NaN</td>\n",
       "      <td>NaN</td>\n",
       "      <td>37.41</td>\n",
       "      <td>-121.94</td>\n",
       "      <td>NaN</td>\n",
       "      <td>NaN</td>\n",
       "      <td>37.40</td>\n",
       "      <td>-121.92</td>\n",
       "      <td>4249</td>\n",
       "      <td>Subscriber</td>\n",
       "      <td>1976.0</td>\n",
       "      <td>Male</td>\n",
       "      <td>No</td>\n",
       "    </tr>\n",
       "    <tr>\n",
       "      <th>161844</th>\n",
       "      <td>823</td>\n",
       "      <td>2019-02-05 13:28:05.5940</td>\n",
       "      <td>2019-02-05 13:41:49.3090</td>\n",
       "      <td>NaN</td>\n",
       "      <td>NaN</td>\n",
       "      <td>37.41</td>\n",
       "      <td>-121.94</td>\n",
       "      <td>NaN</td>\n",
       "      <td>NaN</td>\n",
       "      <td>37.41</td>\n",
       "      <td>-121.96</td>\n",
       "      <td>4092</td>\n",
       "      <td>Subscriber</td>\n",
       "      <td>1999.0</td>\n",
       "      <td>Male</td>\n",
       "      <td>No</td>\n",
       "    </tr>\n",
       "    <tr>\n",
       "      <th>179970</th>\n",
       "      <td>659</td>\n",
       "      <td>2019-02-01 12:17:37.6750</td>\n",
       "      <td>2019-02-01 12:28:37.0140</td>\n",
       "      <td>NaN</td>\n",
       "      <td>NaN</td>\n",
       "      <td>37.41</td>\n",
       "      <td>-121.96</td>\n",
       "      <td>NaN</td>\n",
       "      <td>NaN</td>\n",
       "      <td>37.41</td>\n",
       "      <td>-121.94</td>\n",
       "      <td>4092</td>\n",
       "      <td>Subscriber</td>\n",
       "      <td>1999.0</td>\n",
       "      <td>Female</td>\n",
       "      <td>No</td>\n",
       "    </tr>\n",
       "  </tbody>\n",
       "</table>\n",
       "<p>101 rows × 16 columns</p>\n",
       "</div>"
      ],
      "text/plain": [
       "        duration_sec                start_time                  end_time  \\\n",
       "3625             142  2019-02-28 17:10:46.5290  2019-02-28 17:13:09.4310   \n",
       "8499             240  2019-02-28 08:23:07.0920  2019-02-28 08:27:07.2890   \n",
       "8783             883  2019-02-28 07:58:07.3720  2019-02-28 08:12:51.2760   \n",
       "10967            116  2019-02-27 19:25:57.0360  2019-02-27 19:27:54.0260   \n",
       "13945            399  2019-02-27 14:06:51.7720  2019-02-27 14:13:31.6720   \n",
       "...              ...                       ...                       ...   \n",
       "153088           789  2019-02-06 13:32:34.6330  2019-02-06 13:45:44.3340   \n",
       "154695           968  2019-02-06 09:19:56.8780  2019-02-06 09:36:05.2380   \n",
       "155470           984  2019-02-06 08:39:02.6480  2019-02-06 08:55:26.6830   \n",
       "161844           823  2019-02-05 13:28:05.5940  2019-02-05 13:41:49.3090   \n",
       "179970           659  2019-02-01 12:17:37.6750  2019-02-01 12:28:37.0140   \n",
       "\n",
       "        start_station_id start_station_name  start_station_latitude  \\\n",
       "3625                 NaN                NaN                   37.41   \n",
       "8499                 NaN                NaN                   37.41   \n",
       "8783                 NaN                NaN                   37.41   \n",
       "10967                NaN                NaN                   37.41   \n",
       "13945                NaN                NaN                   37.41   \n",
       "...                  ...                ...                     ...   \n",
       "153088               NaN                NaN                   37.41   \n",
       "154695               NaN                NaN                   37.41   \n",
       "155470               NaN                NaN                   37.41   \n",
       "161844               NaN                NaN                   37.41   \n",
       "179970               NaN                NaN                   37.41   \n",
       "\n",
       "        start_station_longitude  end_station_id end_station_name  \\\n",
       "3625                    -121.95             NaN              NaN   \n",
       "8499                    -121.96             NaN              NaN   \n",
       "8783                    -121.96             NaN              NaN   \n",
       "10967                   -121.95             NaN              NaN   \n",
       "13945                   -121.95             NaN              NaN   \n",
       "...                         ...             ...              ...   \n",
       "153088                  -121.94             NaN              NaN   \n",
       "154695                  -121.96             NaN              NaN   \n",
       "155470                  -121.94             NaN              NaN   \n",
       "161844                  -121.94             NaN              NaN   \n",
       "179970                  -121.96             NaN              NaN   \n",
       "\n",
       "        end_station_latitude  end_station_longitude  bike_id   user_type  \\\n",
       "3625                   37.41                -121.96     4283  Subscriber   \n",
       "8499                   37.41                -121.95     4283  Subscriber   \n",
       "8783                   37.40                -121.94     4211  Subscriber   \n",
       "10967                  37.41                -121.95     4283  Subscriber   \n",
       "13945                  37.41                -121.96     3975  Subscriber   \n",
       "...                      ...                    ...      ...         ...   \n",
       "153088                 37.41                -121.96     4092  Subscriber   \n",
       "154695                 37.41                -121.94     4092  Subscriber   \n",
       "155470                 37.40                -121.92     4249  Subscriber   \n",
       "161844                 37.41                -121.96     4092  Subscriber   \n",
       "179970                 37.41                -121.94     4092  Subscriber   \n",
       "\n",
       "        member_birth_year member_gender bike_share_for_all_trip  \n",
       "3625               1988.0          Male                      No  \n",
       "8499               1988.0          Male                      No  \n",
       "8783               1980.0          Male                      No  \n",
       "10967              1988.0          Male                      No  \n",
       "13945              1995.0          Male                     Yes  \n",
       "...                   ...           ...                     ...  \n",
       "153088             1999.0        Female                      No  \n",
       "154695             1999.0        Female                      No  \n",
       "155470             1976.0          Male                      No  \n",
       "161844             1999.0          Male                      No  \n",
       "179970             1999.0        Female                      No  \n",
       "\n",
       "[101 rows x 16 columns]"
      ]
     },
     "execution_count": 8,
     "metadata": {},
     "output_type": "execute_result"
    }
   ],
   "source": [
    "df[df['start_station_latitude'] == 37.41]"
   ]
  },
  {
   "cell_type": "code",
   "execution_count": 9,
   "metadata": {},
   "outputs": [
    {
     "name": "stdout",
     "output_type": "stream",
     "text": [
      "<class 'pandas.core.frame.DataFrame'>\n",
      "Int64Index: 101 entries, 3625 to 179970\n",
      "Data columns (total 16 columns):\n",
      " #   Column                   Non-Null Count  Dtype  \n",
      "---  ------                   --------------  -----  \n",
      " 0   duration_sec             101 non-null    int64  \n",
      " 1   start_time               101 non-null    object \n",
      " 2   end_time                 101 non-null    object \n",
      " 3   start_station_id         0 non-null      float64\n",
      " 4   start_station_name       0 non-null      object \n",
      " 5   start_station_latitude   101 non-null    float64\n",
      " 6   start_station_longitude  101 non-null    float64\n",
      " 7   end_station_id           0 non-null      float64\n",
      " 8   end_station_name         0 non-null      object \n",
      " 9   end_station_latitude     101 non-null    float64\n",
      " 10  end_station_longitude    101 non-null    float64\n",
      " 11  bike_id                  101 non-null    int64  \n",
      " 12  user_type                101 non-null    object \n",
      " 13  member_birth_year        99 non-null     float64\n",
      " 14  member_gender            99 non-null     object \n",
      " 15  bike_share_for_all_trip  101 non-null    object \n",
      "dtypes: float64(7), int64(2), object(7)\n",
      "memory usage: 13.4+ KB\n"
     ]
    }
   ],
   "source": [
    "df[df['start_station_latitude'] == 37.41].info()"
   ]
  },
  {
   "cell_type": "code",
   "execution_count": 10,
   "metadata": {},
   "outputs": [
    {
     "data": {
      "text/html": [
       "<div>\n",
       "<style scoped>\n",
       "    .dataframe tbody tr th:only-of-type {\n",
       "        vertical-align: middle;\n",
       "    }\n",
       "\n",
       "    .dataframe tbody tr th {\n",
       "        vertical-align: top;\n",
       "    }\n",
       "\n",
       "    .dataframe thead th {\n",
       "        text-align: right;\n",
       "    }\n",
       "</style>\n",
       "<table border=\"1\" class=\"dataframe\">\n",
       "  <thead>\n",
       "    <tr style=\"text-align: right;\">\n",
       "      <th></th>\n",
       "      <th>duration_sec</th>\n",
       "      <th>start_time</th>\n",
       "      <th>end_time</th>\n",
       "      <th>start_station_id</th>\n",
       "      <th>start_station_name</th>\n",
       "      <th>start_station_latitude</th>\n",
       "      <th>start_station_longitude</th>\n",
       "      <th>end_station_id</th>\n",
       "      <th>end_station_name</th>\n",
       "      <th>end_station_latitude</th>\n",
       "      <th>end_station_longitude</th>\n",
       "      <th>bike_id</th>\n",
       "      <th>user_type</th>\n",
       "      <th>member_birth_year</th>\n",
       "      <th>member_gender</th>\n",
       "      <th>bike_share_for_all_trip</th>\n",
       "    </tr>\n",
       "  </thead>\n",
       "  <tbody>\n",
       "    <tr>\n",
       "      <th>19</th>\n",
       "      <td>874</td>\n",
       "      <td>2019-02-28 23:43:05.1830</td>\n",
       "      <td>2019-02-28 23:57:39.7960</td>\n",
       "      <td>180.0</td>\n",
       "      <td>Telegraph Ave at 23rd St</td>\n",
       "      <td>37.812678</td>\n",
       "      <td>-122.268773</td>\n",
       "      <td>180.0</td>\n",
       "      <td>Telegraph Ave at 23rd St</td>\n",
       "      <td>37.812678</td>\n",
       "      <td>-122.268773</td>\n",
       "      <td>5629</td>\n",
       "      <td>Customer</td>\n",
       "      <td>1978.0</td>\n",
       "      <td>Male</td>\n",
       "      <td>No</td>\n",
       "    </tr>\n",
       "    <tr>\n",
       "      <th>27</th>\n",
       "      <td>408</td>\n",
       "      <td>2019-02-28 23:48:08.2820</td>\n",
       "      <td>2019-02-28 23:54:56.9300</td>\n",
       "      <td>78.0</td>\n",
       "      <td>Folsom St at 9th St</td>\n",
       "      <td>37.773717</td>\n",
       "      <td>-122.411647</td>\n",
       "      <td>78.0</td>\n",
       "      <td>Folsom St at 9th St</td>\n",
       "      <td>37.773717</td>\n",
       "      <td>-122.411647</td>\n",
       "      <td>5410</td>\n",
       "      <td>Subscriber</td>\n",
       "      <td>1982.0</td>\n",
       "      <td>Male</td>\n",
       "      <td>No</td>\n",
       "    </tr>\n",
       "    <tr>\n",
       "      <th>34</th>\n",
       "      <td>471</td>\n",
       "      <td>2019-02-28 23:42:43.3610</td>\n",
       "      <td>2019-02-28 23:50:34.4460</td>\n",
       "      <td>133.0</td>\n",
       "      <td>Valencia St at 22nd St</td>\n",
       "      <td>37.755213</td>\n",
       "      <td>-122.420975</td>\n",
       "      <td>133.0</td>\n",
       "      <td>Valencia St at 22nd St</td>\n",
       "      <td>37.755213</td>\n",
       "      <td>-122.420975</td>\n",
       "      <td>5559</td>\n",
       "      <td>Subscriber</td>\n",
       "      <td>1992.0</td>\n",
       "      <td>Male</td>\n",
       "      <td>No</td>\n",
       "    </tr>\n",
       "    <tr>\n",
       "      <th>53</th>\n",
       "      <td>3418</td>\n",
       "      <td>2019-02-28 22:41:16.3620</td>\n",
       "      <td>2019-02-28 23:38:14.3630</td>\n",
       "      <td>11.0</td>\n",
       "      <td>Davis St at Jackson St</td>\n",
       "      <td>37.797280</td>\n",
       "      <td>-122.398436</td>\n",
       "      <td>11.0</td>\n",
       "      <td>Davis St at Jackson St</td>\n",
       "      <td>37.797280</td>\n",
       "      <td>-122.398436</td>\n",
       "      <td>319</td>\n",
       "      <td>Customer</td>\n",
       "      <td>NaN</td>\n",
       "      <td>NaN</td>\n",
       "      <td>No</td>\n",
       "    </tr>\n",
       "    <tr>\n",
       "      <th>55</th>\n",
       "      <td>3478</td>\n",
       "      <td>2019-02-28 22:39:35.0200</td>\n",
       "      <td>2019-02-28 23:37:33.3420</td>\n",
       "      <td>11.0</td>\n",
       "      <td>Davis St at Jackson St</td>\n",
       "      <td>37.797280</td>\n",
       "      <td>-122.398436</td>\n",
       "      <td>11.0</td>\n",
       "      <td>Davis St at Jackson St</td>\n",
       "      <td>37.797280</td>\n",
       "      <td>-122.398436</td>\n",
       "      <td>1846</td>\n",
       "      <td>Subscriber</td>\n",
       "      <td>1995.0</td>\n",
       "      <td>Male</td>\n",
       "      <td>No</td>\n",
       "    </tr>\n",
       "    <tr>\n",
       "      <th>...</th>\n",
       "      <td>...</td>\n",
       "      <td>...</td>\n",
       "      <td>...</td>\n",
       "      <td>...</td>\n",
       "      <td>...</td>\n",
       "      <td>...</td>\n",
       "      <td>...</td>\n",
       "      <td>...</td>\n",
       "      <td>...</td>\n",
       "      <td>...</td>\n",
       "      <td>...</td>\n",
       "      <td>...</td>\n",
       "      <td>...</td>\n",
       "      <td>...</td>\n",
       "      <td>...</td>\n",
       "      <td>...</td>\n",
       "    </tr>\n",
       "    <tr>\n",
       "      <th>183317</th>\n",
       "      <td>1476</td>\n",
       "      <td>2019-02-01 02:45:04.7440</td>\n",
       "      <td>2019-02-01 03:09:41.1840</td>\n",
       "      <td>345.0</td>\n",
       "      <td>Hubbell St at 16th St</td>\n",
       "      <td>37.766483</td>\n",
       "      <td>-122.398279</td>\n",
       "      <td>345.0</td>\n",
       "      <td>Hubbell St at 16th St</td>\n",
       "      <td>37.766483</td>\n",
       "      <td>-122.398279</td>\n",
       "      <td>5224</td>\n",
       "      <td>Subscriber</td>\n",
       "      <td>1967.0</td>\n",
       "      <td>Male</td>\n",
       "      <td>No</td>\n",
       "    </tr>\n",
       "    <tr>\n",
       "      <th>183318</th>\n",
       "      <td>877</td>\n",
       "      <td>2019-02-01 02:53:15.9950</td>\n",
       "      <td>2019-02-01 03:07:53.0580</td>\n",
       "      <td>385.0</td>\n",
       "      <td>Woolsey St at Sacramento St</td>\n",
       "      <td>37.850578</td>\n",
       "      <td>-122.278175</td>\n",
       "      <td>385.0</td>\n",
       "      <td>Woolsey St at Sacramento St</td>\n",
       "      <td>37.850578</td>\n",
       "      <td>-122.278175</td>\n",
       "      <td>4913</td>\n",
       "      <td>Subscriber</td>\n",
       "      <td>1987.0</td>\n",
       "      <td>Male</td>\n",
       "      <td>No</td>\n",
       "    </tr>\n",
       "    <tr>\n",
       "      <th>183326</th>\n",
       "      <td>5713</td>\n",
       "      <td>2019-02-01 01:02:55.1680</td>\n",
       "      <td>2019-02-01 02:38:09.0020</td>\n",
       "      <td>31.0</td>\n",
       "      <td>Raymond Kimbell Playground</td>\n",
       "      <td>37.783813</td>\n",
       "      <td>-122.434559</td>\n",
       "      <td>31.0</td>\n",
       "      <td>Raymond Kimbell Playground</td>\n",
       "      <td>37.783813</td>\n",
       "      <td>-122.434559</td>\n",
       "      <td>5366</td>\n",
       "      <td>Subscriber</td>\n",
       "      <td>1972.0</td>\n",
       "      <td>Male</td>\n",
       "      <td>No</td>\n",
       "    </tr>\n",
       "    <tr>\n",
       "      <th>183350</th>\n",
       "      <td>874</td>\n",
       "      <td>2019-02-01 01:41:43.4140</td>\n",
       "      <td>2019-02-01 01:56:17.5520</td>\n",
       "      <td>253.0</td>\n",
       "      <td>Haste St at College Ave</td>\n",
       "      <td>37.866418</td>\n",
       "      <td>-122.253799</td>\n",
       "      <td>253.0</td>\n",
       "      <td>Haste St at College Ave</td>\n",
       "      <td>37.866418</td>\n",
       "      <td>-122.253799</td>\n",
       "      <td>3232</td>\n",
       "      <td>Subscriber</td>\n",
       "      <td>1995.0</td>\n",
       "      <td>Male</td>\n",
       "      <td>Yes</td>\n",
       "    </tr>\n",
       "    <tr>\n",
       "      <th>183380</th>\n",
       "      <td>943</td>\n",
       "      <td>2019-02-01 00:43:11.5500</td>\n",
       "      <td>2019-02-01 00:58:55.2170</td>\n",
       "      <td>31.0</td>\n",
       "      <td>Raymond Kimbell Playground</td>\n",
       "      <td>37.783813</td>\n",
       "      <td>-122.434559</td>\n",
       "      <td>31.0</td>\n",
       "      <td>Raymond Kimbell Playground</td>\n",
       "      <td>37.783813</td>\n",
       "      <td>-122.434559</td>\n",
       "      <td>5343</td>\n",
       "      <td>Subscriber</td>\n",
       "      <td>1972.0</td>\n",
       "      <td>Male</td>\n",
       "      <td>No</td>\n",
       "    </tr>\n",
       "  </tbody>\n",
       "</table>\n",
       "<p>3937 rows × 16 columns</p>\n",
       "</div>"
      ],
      "text/plain": [
       "        duration_sec                start_time                  end_time  \\\n",
       "19               874  2019-02-28 23:43:05.1830  2019-02-28 23:57:39.7960   \n",
       "27               408  2019-02-28 23:48:08.2820  2019-02-28 23:54:56.9300   \n",
       "34               471  2019-02-28 23:42:43.3610  2019-02-28 23:50:34.4460   \n",
       "53              3418  2019-02-28 22:41:16.3620  2019-02-28 23:38:14.3630   \n",
       "55              3478  2019-02-28 22:39:35.0200  2019-02-28 23:37:33.3420   \n",
       "...              ...                       ...                       ...   \n",
       "183317          1476  2019-02-01 02:45:04.7440  2019-02-01 03:09:41.1840   \n",
       "183318           877  2019-02-01 02:53:15.9950  2019-02-01 03:07:53.0580   \n",
       "183326          5713  2019-02-01 01:02:55.1680  2019-02-01 02:38:09.0020   \n",
       "183350           874  2019-02-01 01:41:43.4140  2019-02-01 01:56:17.5520   \n",
       "183380           943  2019-02-01 00:43:11.5500  2019-02-01 00:58:55.2170   \n",
       "\n",
       "        start_station_id           start_station_name  start_station_latitude  \\\n",
       "19                 180.0     Telegraph Ave at 23rd St               37.812678   \n",
       "27                  78.0          Folsom St at 9th St               37.773717   \n",
       "34                 133.0       Valencia St at 22nd St               37.755213   \n",
       "53                  11.0       Davis St at Jackson St               37.797280   \n",
       "55                  11.0       Davis St at Jackson St               37.797280   \n",
       "...                  ...                          ...                     ...   \n",
       "183317             345.0        Hubbell St at 16th St               37.766483   \n",
       "183318             385.0  Woolsey St at Sacramento St               37.850578   \n",
       "183326              31.0   Raymond Kimbell Playground               37.783813   \n",
       "183350             253.0      Haste St at College Ave               37.866418   \n",
       "183380              31.0   Raymond Kimbell Playground               37.783813   \n",
       "\n",
       "        start_station_longitude  end_station_id             end_station_name  \\\n",
       "19                  -122.268773           180.0     Telegraph Ave at 23rd St   \n",
       "27                  -122.411647            78.0          Folsom St at 9th St   \n",
       "34                  -122.420975           133.0       Valencia St at 22nd St   \n",
       "53                  -122.398436            11.0       Davis St at Jackson St   \n",
       "55                  -122.398436            11.0       Davis St at Jackson St   \n",
       "...                         ...             ...                          ...   \n",
       "183317              -122.398279           345.0        Hubbell St at 16th St   \n",
       "183318              -122.278175           385.0  Woolsey St at Sacramento St   \n",
       "183326              -122.434559            31.0   Raymond Kimbell Playground   \n",
       "183350              -122.253799           253.0      Haste St at College Ave   \n",
       "183380              -122.434559            31.0   Raymond Kimbell Playground   \n",
       "\n",
       "        end_station_latitude  end_station_longitude  bike_id   user_type  \\\n",
       "19                 37.812678            -122.268773     5629    Customer   \n",
       "27                 37.773717            -122.411647     5410  Subscriber   \n",
       "34                 37.755213            -122.420975     5559  Subscriber   \n",
       "53                 37.797280            -122.398436      319    Customer   \n",
       "55                 37.797280            -122.398436     1846  Subscriber   \n",
       "...                      ...                    ...      ...         ...   \n",
       "183317             37.766483            -122.398279     5224  Subscriber   \n",
       "183318             37.850578            -122.278175     4913  Subscriber   \n",
       "183326             37.783813            -122.434559     5366  Subscriber   \n",
       "183350             37.866418            -122.253799     3232  Subscriber   \n",
       "183380             37.783813            -122.434559     5343  Subscriber   \n",
       "\n",
       "        member_birth_year member_gender bike_share_for_all_trip  \n",
       "19                 1978.0          Male                      No  \n",
       "27                 1982.0          Male                      No  \n",
       "34                 1992.0          Male                      No  \n",
       "53                    NaN           NaN                      No  \n",
       "55                 1995.0          Male                      No  \n",
       "...                   ...           ...                     ...  \n",
       "183317             1967.0          Male                      No  \n",
       "183318             1987.0          Male                      No  \n",
       "183326             1972.0          Male                      No  \n",
       "183350             1995.0          Male                     Yes  \n",
       "183380             1972.0          Male                      No  \n",
       "\n",
       "[3937 rows x 16 columns]"
      ]
     },
     "execution_count": 10,
     "metadata": {},
     "output_type": "execute_result"
    }
   ],
   "source": [
    "df[df['start_station_latitude'] == df['end_station_latitude']]"
   ]
  },
  {
   "cell_type": "code",
   "execution_count": null,
   "metadata": {},
   "outputs": [],
   "source": []
  },
  {
   "cell_type": "markdown",
   "metadata": {},
   "source": [
    "##### Data Wrangling steps\n",
    "- Fix `start_time` and `end_time` datatype.\n",
    "- Change gender, type and `bike_share_for_all_trip` to categorical data type to be able to plot with seaborn.\n",
    "- Extract start time of day, day of the week, or month of the year"
   ]
  },
  {
   "cell_type": "code",
   "execution_count": 11,
   "metadata": {},
   "outputs": [],
   "source": [
    "df_clean = df.copy()"
   ]
  },
  {
   "cell_type": "code",
   "execution_count": 12,
   "metadata": {},
   "outputs": [
    {
     "name": "stdout",
     "output_type": "stream",
     "text": [
      "<class 'pandas.core.frame.DataFrame'>\n",
      "RangeIndex: 183412 entries, 0 to 183411\n",
      "Data columns (total 16 columns):\n",
      " #   Column                   Non-Null Count   Dtype         \n",
      "---  ------                   --------------   -----         \n",
      " 0   duration_sec             183412 non-null  int64         \n",
      " 1   start_time               183412 non-null  datetime64[ns]\n",
      " 2   end_time                 183412 non-null  datetime64[ns]\n",
      " 3   start_station_id         183215 non-null  float64       \n",
      " 4   start_station_name       183215 non-null  object        \n",
      " 5   start_station_latitude   183412 non-null  float64       \n",
      " 6   start_station_longitude  183412 non-null  float64       \n",
      " 7   end_station_id           183215 non-null  float64       \n",
      " 8   end_station_name         183215 non-null  object        \n",
      " 9   end_station_latitude     183412 non-null  float64       \n",
      " 10  end_station_longitude    183412 non-null  float64       \n",
      " 11  bike_id                  183412 non-null  int64         \n",
      " 12  user_type                183412 non-null  category      \n",
      " 13  member_birth_year        175147 non-null  float64       \n",
      " 14  member_gender            175147 non-null  category      \n",
      " 15  bike_share_for_all_trip  183412 non-null  category      \n",
      "dtypes: category(3), datetime64[ns](2), float64(7), int64(2), object(2)\n",
      "memory usage: 18.7+ MB\n"
     ]
    }
   ],
   "source": [
    "df_clean['start_time'] = pd.to_datetime(df_clean['start_time'])\n",
    "df_clean['end_time'] = pd.to_datetime(df_clean['end_time'])\n",
    "\n",
    "df_clean['member_gender'] = df_clean['member_gender'].astype('category')\n",
    "df_clean['user_type'] = df_clean['user_type'].astype('category')\n",
    "df_clean['bike_share_for_all_trip'] = df_clean['bike_share_for_all_trip'].astype('category')\n",
    "\n",
    "# Test\n",
    "df_clean.info()"
   ]
  },
  {
   "cell_type": "code",
   "execution_count": 18,
   "metadata": {},
   "outputs": [
    {
     "name": "stdout",
     "output_type": "stream",
     "text": [
      "<class 'pandas.core.frame.DataFrame'>\n",
      "RangeIndex: 183412 entries, 0 to 183411\n",
      "Data columns (total 19 columns):\n",
      " #   Column                   Non-Null Count   Dtype         \n",
      "---  ------                   --------------   -----         \n",
      " 0   duration_sec             183412 non-null  int64         \n",
      " 1   start_time               183412 non-null  datetime64[ns]\n",
      " 2   end_time                 183412 non-null  datetime64[ns]\n",
      " 3   start_station_id         183215 non-null  float64       \n",
      " 4   start_station_name       183215 non-null  object        \n",
      " 5   start_station_latitude   183412 non-null  float64       \n",
      " 6   start_station_longitude  183412 non-null  float64       \n",
      " 7   end_station_id           183215 non-null  float64       \n",
      " 8   end_station_name         183215 non-null  object        \n",
      " 9   end_station_latitude     183412 non-null  float64       \n",
      " 10  end_station_longitude    183412 non-null  float64       \n",
      " 11  bike_id                  183412 non-null  int64         \n",
      " 12  user_type                183412 non-null  category      \n",
      " 13  member_birth_year        175147 non-null  float64       \n",
      " 14  member_gender            175147 non-null  category      \n",
      " 15  bike_share_for_all_trip  183412 non-null  category      \n",
      " 16  time_of_day              183412 non-null  object        \n",
      " 17  day                      183412 non-null  object        \n",
      " 18  year                     183412 non-null  int64         \n",
      "dtypes: category(3), datetime64[ns](2), float64(7), int64(3), object(4)\n",
      "memory usage: 22.9+ MB\n",
      "None\n"
     ]
    },
    {
     "data": {
      "text/html": [
       "<div>\n",
       "<style scoped>\n",
       "    .dataframe tbody tr th:only-of-type {\n",
       "        vertical-align: middle;\n",
       "    }\n",
       "\n",
       "    .dataframe tbody tr th {\n",
       "        vertical-align: top;\n",
       "    }\n",
       "\n",
       "    .dataframe thead th {\n",
       "        text-align: right;\n",
       "    }\n",
       "</style>\n",
       "<table border=\"1\" class=\"dataframe\">\n",
       "  <thead>\n",
       "    <tr style=\"text-align: right;\">\n",
       "      <th></th>\n",
       "      <th>duration_sec</th>\n",
       "      <th>start_time</th>\n",
       "      <th>end_time</th>\n",
       "      <th>start_station_id</th>\n",
       "      <th>start_station_name</th>\n",
       "      <th>start_station_latitude</th>\n",
       "      <th>start_station_longitude</th>\n",
       "      <th>end_station_id</th>\n",
       "      <th>end_station_name</th>\n",
       "      <th>end_station_latitude</th>\n",
       "      <th>end_station_longitude</th>\n",
       "      <th>bike_id</th>\n",
       "      <th>user_type</th>\n",
       "      <th>member_birth_year</th>\n",
       "      <th>member_gender</th>\n",
       "      <th>bike_share_for_all_trip</th>\n",
       "      <th>time_of_day</th>\n",
       "      <th>day</th>\n",
       "      <th>year</th>\n",
       "    </tr>\n",
       "  </thead>\n",
       "  <tbody>\n",
       "    <tr>\n",
       "      <th>0</th>\n",
       "      <td>52185</td>\n",
       "      <td>2019-02-28 17:32:10.145</td>\n",
       "      <td>2019-03-01 08:01:55.975</td>\n",
       "      <td>21.0</td>\n",
       "      <td>Montgomery St BART Station (Market St at 2nd St)</td>\n",
       "      <td>37.789625</td>\n",
       "      <td>-122.400811</td>\n",
       "      <td>13.0</td>\n",
       "      <td>Commercial St at Montgomery St</td>\n",
       "      <td>37.794231</td>\n",
       "      <td>-122.402923</td>\n",
       "      <td>4902</td>\n",
       "      <td>Customer</td>\n",
       "      <td>1984.0</td>\n",
       "      <td>Male</td>\n",
       "      <td>No</td>\n",
       "      <td>17</td>\n",
       "      <td>Thursday</td>\n",
       "      <td>2019</td>\n",
       "    </tr>\n",
       "    <tr>\n",
       "      <th>1</th>\n",
       "      <td>42521</td>\n",
       "      <td>2019-02-28 18:53:21.789</td>\n",
       "      <td>2019-03-01 06:42:03.056</td>\n",
       "      <td>23.0</td>\n",
       "      <td>The Embarcadero at Steuart St</td>\n",
       "      <td>37.791464</td>\n",
       "      <td>-122.391034</td>\n",
       "      <td>81.0</td>\n",
       "      <td>Berry St at 4th St</td>\n",
       "      <td>37.775880</td>\n",
       "      <td>-122.393170</td>\n",
       "      <td>2535</td>\n",
       "      <td>Customer</td>\n",
       "      <td>NaN</td>\n",
       "      <td>NaN</td>\n",
       "      <td>No</td>\n",
       "      <td>18</td>\n",
       "      <td>Thursday</td>\n",
       "      <td>2019</td>\n",
       "    </tr>\n",
       "    <tr>\n",
       "      <th>2</th>\n",
       "      <td>61854</td>\n",
       "      <td>2019-02-28 12:13:13.218</td>\n",
       "      <td>2019-03-01 05:24:08.146</td>\n",
       "      <td>86.0</td>\n",
       "      <td>Market St at Dolores St</td>\n",
       "      <td>37.769305</td>\n",
       "      <td>-122.426826</td>\n",
       "      <td>3.0</td>\n",
       "      <td>Powell St BART Station (Market St at 4th St)</td>\n",
       "      <td>37.786375</td>\n",
       "      <td>-122.404904</td>\n",
       "      <td>5905</td>\n",
       "      <td>Customer</td>\n",
       "      <td>1972.0</td>\n",
       "      <td>Male</td>\n",
       "      <td>No</td>\n",
       "      <td>12</td>\n",
       "      <td>Thursday</td>\n",
       "      <td>2019</td>\n",
       "    </tr>\n",
       "    <tr>\n",
       "      <th>3</th>\n",
       "      <td>36490</td>\n",
       "      <td>2019-02-28 17:54:26.010</td>\n",
       "      <td>2019-03-01 04:02:36.842</td>\n",
       "      <td>375.0</td>\n",
       "      <td>Grove St at Masonic Ave</td>\n",
       "      <td>37.774836</td>\n",
       "      <td>-122.446546</td>\n",
       "      <td>70.0</td>\n",
       "      <td>Central Ave at Fell St</td>\n",
       "      <td>37.773311</td>\n",
       "      <td>-122.444293</td>\n",
       "      <td>6638</td>\n",
       "      <td>Subscriber</td>\n",
       "      <td>1989.0</td>\n",
       "      <td>Other</td>\n",
       "      <td>No</td>\n",
       "      <td>17</td>\n",
       "      <td>Thursday</td>\n",
       "      <td>2019</td>\n",
       "    </tr>\n",
       "    <tr>\n",
       "      <th>4</th>\n",
       "      <td>1585</td>\n",
       "      <td>2019-02-28 23:54:18.549</td>\n",
       "      <td>2019-03-01 00:20:44.074</td>\n",
       "      <td>7.0</td>\n",
       "      <td>Frank H Ogawa Plaza</td>\n",
       "      <td>37.804562</td>\n",
       "      <td>-122.271738</td>\n",
       "      <td>222.0</td>\n",
       "      <td>10th Ave at E 15th St</td>\n",
       "      <td>37.792714</td>\n",
       "      <td>-122.248780</td>\n",
       "      <td>4898</td>\n",
       "      <td>Subscriber</td>\n",
       "      <td>1974.0</td>\n",
       "      <td>Male</td>\n",
       "      <td>Yes</td>\n",
       "      <td>23</td>\n",
       "      <td>Thursday</td>\n",
       "      <td>2019</td>\n",
       "    </tr>\n",
       "  </tbody>\n",
       "</table>\n",
       "</div>"
      ],
      "text/plain": [
       "   duration_sec              start_time                end_time  \\\n",
       "0         52185 2019-02-28 17:32:10.145 2019-03-01 08:01:55.975   \n",
       "1         42521 2019-02-28 18:53:21.789 2019-03-01 06:42:03.056   \n",
       "2         61854 2019-02-28 12:13:13.218 2019-03-01 05:24:08.146   \n",
       "3         36490 2019-02-28 17:54:26.010 2019-03-01 04:02:36.842   \n",
       "4          1585 2019-02-28 23:54:18.549 2019-03-01 00:20:44.074   \n",
       "\n",
       "   start_station_id                                start_station_name  \\\n",
       "0              21.0  Montgomery St BART Station (Market St at 2nd St)   \n",
       "1              23.0                     The Embarcadero at Steuart St   \n",
       "2              86.0                           Market St at Dolores St   \n",
       "3             375.0                           Grove St at Masonic Ave   \n",
       "4               7.0                               Frank H Ogawa Plaza   \n",
       "\n",
       "   start_station_latitude  start_station_longitude  end_station_id  \\\n",
       "0               37.789625              -122.400811            13.0   \n",
       "1               37.791464              -122.391034            81.0   \n",
       "2               37.769305              -122.426826             3.0   \n",
       "3               37.774836              -122.446546            70.0   \n",
       "4               37.804562              -122.271738           222.0   \n",
       "\n",
       "                               end_station_name  end_station_latitude  \\\n",
       "0                Commercial St at Montgomery St             37.794231   \n",
       "1                            Berry St at 4th St             37.775880   \n",
       "2  Powell St BART Station (Market St at 4th St)             37.786375   \n",
       "3                        Central Ave at Fell St             37.773311   \n",
       "4                         10th Ave at E 15th St             37.792714   \n",
       "\n",
       "   end_station_longitude  bike_id   user_type  member_birth_year  \\\n",
       "0            -122.402923     4902    Customer             1984.0   \n",
       "1            -122.393170     2535    Customer                NaN   \n",
       "2            -122.404904     5905    Customer             1972.0   \n",
       "3            -122.444293     6638  Subscriber             1989.0   \n",
       "4            -122.248780     4898  Subscriber             1974.0   \n",
       "\n",
       "  member_gender bike_share_for_all_trip time_of_day       day  year  \n",
       "0          Male                      No          17  Thursday  2019  \n",
       "1           NaN                      No          18  Thursday  2019  \n",
       "2          Male                      No          12  Thursday  2019  \n",
       "3         Other                      No          17  Thursday  2019  \n",
       "4          Male                     Yes          23  Thursday  2019  "
      ]
     },
     "execution_count": 18,
     "metadata": {},
     "output_type": "execute_result"
    }
   ],
   "source": [
    "# Adding to columns for hours and day\n",
    "df_clean['time_of_day'] = df_clean.start_time.dt.strftime('%H')\n",
    "df_clean['day'] = df_clean.start_time.dt.strftime('%A')\n",
    "df_clean['year'] = df_clean.start_time.dt.strftime('%Y').astype(\"int\")\n",
    "\n",
    "# Test\n",
    "print(df_clean.info())\n",
    "df_clean.head()"
   ]
  },
  {
   "cell_type": "code",
   "execution_count": 14,
   "metadata": {},
   "outputs": [
    {
     "name": "stdout",
     "output_type": "stream",
     "text": [
      "<class 'pandas.core.frame.DataFrame'>\n",
      "RangeIndex: 183412 entries, 0 to 183411\n",
      "Data columns (total 18 columns):\n",
      " #   Column                   Non-Null Count   Dtype         \n",
      "---  ------                   --------------   -----         \n",
      " 0   duration_sec             183412 non-null  int64         \n",
      " 1   start_time               183412 non-null  datetime64[ns]\n",
      " 2   end_time                 183412 non-null  datetime64[ns]\n",
      " 3   start_station_id         183215 non-null  float64       \n",
      " 4   start_station_name       183215 non-null  object        \n",
      " 5   start_station_latitude   183412 non-null  float64       \n",
      " 6   start_station_longitude  183412 non-null  float64       \n",
      " 7   end_station_id           183215 non-null  float64       \n",
      " 8   end_station_name         183215 non-null  object        \n",
      " 9   end_station_latitude     183412 non-null  float64       \n",
      " 10  end_station_longitude    183412 non-null  float64       \n",
      " 11  bike_id                  183412 non-null  int64         \n",
      " 12  user_type                183412 non-null  category      \n",
      " 13  member_birth_year        175147 non-null  float64       \n",
      " 14  member_gender            175147 non-null  category      \n",
      " 15  bike_share_for_all_trip  183412 non-null  category      \n",
      " 16  time_of_day              183412 non-null  category      \n",
      " 17  day                      183412 non-null  category      \n",
      "dtypes: category(5), datetime64[ns](2), float64(7), int64(2), object(2)\n",
      "memory usage: 19.1+ MB\n"
     ]
    }
   ],
   "source": [
    "df_clean['time_of_day'] = df_clean['time_of_day'].astype('category')\n",
    "df_clean['day'] = df_clean['day'].astype('category')\n",
    "\n",
    "# Test\n",
    "df_clean.info()"
   ]
  },
  {
   "cell_type": "code",
   "execution_count": 19,
   "metadata": {},
   "outputs": [
    {
     "name": "stdout",
     "output_type": "stream",
     "text": [
      "(183412, 20)\n"
     ]
    },
    {
     "data": {
      "text/html": [
       "<div>\n",
       "<style scoped>\n",
       "    .dataframe tbody tr th:only-of-type {\n",
       "        vertical-align: middle;\n",
       "    }\n",
       "\n",
       "    .dataframe tbody tr th {\n",
       "        vertical-align: top;\n",
       "    }\n",
       "\n",
       "    .dataframe thead th {\n",
       "        text-align: right;\n",
       "    }\n",
       "</style>\n",
       "<table border=\"1\" class=\"dataframe\">\n",
       "  <thead>\n",
       "    <tr style=\"text-align: right;\">\n",
       "      <th></th>\n",
       "      <th>duration_sec</th>\n",
       "      <th>start_time</th>\n",
       "      <th>end_time</th>\n",
       "      <th>start_station_id</th>\n",
       "      <th>start_station_name</th>\n",
       "      <th>start_station_latitude</th>\n",
       "      <th>start_station_longitude</th>\n",
       "      <th>end_station_id</th>\n",
       "      <th>end_station_name</th>\n",
       "      <th>end_station_latitude</th>\n",
       "      <th>end_station_longitude</th>\n",
       "      <th>bike_id</th>\n",
       "      <th>user_type</th>\n",
       "      <th>member_birth_year</th>\n",
       "      <th>member_gender</th>\n",
       "      <th>bike_share_for_all_trip</th>\n",
       "      <th>time_of_day</th>\n",
       "      <th>day</th>\n",
       "      <th>year</th>\n",
       "      <th>age</th>\n",
       "    </tr>\n",
       "  </thead>\n",
       "  <tbody>\n",
       "    <tr>\n",
       "      <th>0</th>\n",
       "      <td>52185</td>\n",
       "      <td>2019-02-28 17:32:10.145</td>\n",
       "      <td>2019-03-01 08:01:55.975</td>\n",
       "      <td>21.0</td>\n",
       "      <td>Montgomery St BART Station (Market St at 2nd St)</td>\n",
       "      <td>37.789625</td>\n",
       "      <td>-122.400811</td>\n",
       "      <td>13.0</td>\n",
       "      <td>Commercial St at Montgomery St</td>\n",
       "      <td>37.794231</td>\n",
       "      <td>-122.402923</td>\n",
       "      <td>4902</td>\n",
       "      <td>Customer</td>\n",
       "      <td>1984.0</td>\n",
       "      <td>Male</td>\n",
       "      <td>No</td>\n",
       "      <td>17</td>\n",
       "      <td>Thursday</td>\n",
       "      <td>2019</td>\n",
       "      <td>35.0</td>\n",
       "    </tr>\n",
       "    <tr>\n",
       "      <th>1</th>\n",
       "      <td>42521</td>\n",
       "      <td>2019-02-28 18:53:21.789</td>\n",
       "      <td>2019-03-01 06:42:03.056</td>\n",
       "      <td>23.0</td>\n",
       "      <td>The Embarcadero at Steuart St</td>\n",
       "      <td>37.791464</td>\n",
       "      <td>-122.391034</td>\n",
       "      <td>81.0</td>\n",
       "      <td>Berry St at 4th St</td>\n",
       "      <td>37.775880</td>\n",
       "      <td>-122.393170</td>\n",
       "      <td>2535</td>\n",
       "      <td>Customer</td>\n",
       "      <td>NaN</td>\n",
       "      <td>NaN</td>\n",
       "      <td>No</td>\n",
       "      <td>18</td>\n",
       "      <td>Thursday</td>\n",
       "      <td>2019</td>\n",
       "      <td>NaN</td>\n",
       "    </tr>\n",
       "    <tr>\n",
       "      <th>2</th>\n",
       "      <td>61854</td>\n",
       "      <td>2019-02-28 12:13:13.218</td>\n",
       "      <td>2019-03-01 05:24:08.146</td>\n",
       "      <td>86.0</td>\n",
       "      <td>Market St at Dolores St</td>\n",
       "      <td>37.769305</td>\n",
       "      <td>-122.426826</td>\n",
       "      <td>3.0</td>\n",
       "      <td>Powell St BART Station (Market St at 4th St)</td>\n",
       "      <td>37.786375</td>\n",
       "      <td>-122.404904</td>\n",
       "      <td>5905</td>\n",
       "      <td>Customer</td>\n",
       "      <td>1972.0</td>\n",
       "      <td>Male</td>\n",
       "      <td>No</td>\n",
       "      <td>12</td>\n",
       "      <td>Thursday</td>\n",
       "      <td>2019</td>\n",
       "      <td>47.0</td>\n",
       "    </tr>\n",
       "    <tr>\n",
       "      <th>3</th>\n",
       "      <td>36490</td>\n",
       "      <td>2019-02-28 17:54:26.010</td>\n",
       "      <td>2019-03-01 04:02:36.842</td>\n",
       "      <td>375.0</td>\n",
       "      <td>Grove St at Masonic Ave</td>\n",
       "      <td>37.774836</td>\n",
       "      <td>-122.446546</td>\n",
       "      <td>70.0</td>\n",
       "      <td>Central Ave at Fell St</td>\n",
       "      <td>37.773311</td>\n",
       "      <td>-122.444293</td>\n",
       "      <td>6638</td>\n",
       "      <td>Subscriber</td>\n",
       "      <td>1989.0</td>\n",
       "      <td>Other</td>\n",
       "      <td>No</td>\n",
       "      <td>17</td>\n",
       "      <td>Thursday</td>\n",
       "      <td>2019</td>\n",
       "      <td>30.0</td>\n",
       "    </tr>\n",
       "    <tr>\n",
       "      <th>4</th>\n",
       "      <td>1585</td>\n",
       "      <td>2019-02-28 23:54:18.549</td>\n",
       "      <td>2019-03-01 00:20:44.074</td>\n",
       "      <td>7.0</td>\n",
       "      <td>Frank H Ogawa Plaza</td>\n",
       "      <td>37.804562</td>\n",
       "      <td>-122.271738</td>\n",
       "      <td>222.0</td>\n",
       "      <td>10th Ave at E 15th St</td>\n",
       "      <td>37.792714</td>\n",
       "      <td>-122.248780</td>\n",
       "      <td>4898</td>\n",
       "      <td>Subscriber</td>\n",
       "      <td>1974.0</td>\n",
       "      <td>Male</td>\n",
       "      <td>Yes</td>\n",
       "      <td>23</td>\n",
       "      <td>Thursday</td>\n",
       "      <td>2019</td>\n",
       "      <td>45.0</td>\n",
       "    </tr>\n",
       "  </tbody>\n",
       "</table>\n",
       "</div>"
      ],
      "text/plain": [
       "   duration_sec              start_time                end_time  \\\n",
       "0         52185 2019-02-28 17:32:10.145 2019-03-01 08:01:55.975   \n",
       "1         42521 2019-02-28 18:53:21.789 2019-03-01 06:42:03.056   \n",
       "2         61854 2019-02-28 12:13:13.218 2019-03-01 05:24:08.146   \n",
       "3         36490 2019-02-28 17:54:26.010 2019-03-01 04:02:36.842   \n",
       "4          1585 2019-02-28 23:54:18.549 2019-03-01 00:20:44.074   \n",
       "\n",
       "   start_station_id                                start_station_name  \\\n",
       "0              21.0  Montgomery St BART Station (Market St at 2nd St)   \n",
       "1              23.0                     The Embarcadero at Steuart St   \n",
       "2              86.0                           Market St at Dolores St   \n",
       "3             375.0                           Grove St at Masonic Ave   \n",
       "4               7.0                               Frank H Ogawa Plaza   \n",
       "\n",
       "   start_station_latitude  start_station_longitude  end_station_id  \\\n",
       "0               37.789625              -122.400811            13.0   \n",
       "1               37.791464              -122.391034            81.0   \n",
       "2               37.769305              -122.426826             3.0   \n",
       "3               37.774836              -122.446546            70.0   \n",
       "4               37.804562              -122.271738           222.0   \n",
       "\n",
       "                               end_station_name  end_station_latitude  \\\n",
       "0                Commercial St at Montgomery St             37.794231   \n",
       "1                            Berry St at 4th St             37.775880   \n",
       "2  Powell St BART Station (Market St at 4th St)             37.786375   \n",
       "3                        Central Ave at Fell St             37.773311   \n",
       "4                         10th Ave at E 15th St             37.792714   \n",
       "\n",
       "   end_station_longitude  bike_id   user_type  member_birth_year  \\\n",
       "0            -122.402923     4902    Customer             1984.0   \n",
       "1            -122.393170     2535    Customer                NaN   \n",
       "2            -122.404904     5905    Customer             1972.0   \n",
       "3            -122.444293     6638  Subscriber             1989.0   \n",
       "4            -122.248780     4898  Subscriber             1974.0   \n",
       "\n",
       "  member_gender bike_share_for_all_trip time_of_day       day  year   age  \n",
       "0          Male                      No          17  Thursday  2019  35.0  \n",
       "1           NaN                      No          18  Thursday  2019   NaN  \n",
       "2          Male                      No          12  Thursday  2019  47.0  \n",
       "3         Other                      No          17  Thursday  2019  30.0  \n",
       "4          Male                     Yes          23  Thursday  2019  45.0  "
      ]
     },
     "execution_count": 19,
     "metadata": {},
     "output_type": "execute_result"
    }
   ],
   "source": [
    "# Getting the age of users at 2019\n",
    "df_clean['age'] = df_clean['year'] - df_clean['member_birth_year']\n",
    "\n",
    "# Test\n",
    "print(df_clean.shape)\n",
    "df_clean.head()"
   ]
  },
  {
   "cell_type": "code",
   "execution_count": 20,
   "metadata": {},
   "outputs": [],
   "source": [
    "# Save the wrangled dataframe for visualization in the presentation.\n",
    "df_clean.to_csv('201902-fordgobike-tripdata-clean-version.csv')"
   ]
  },
  {
   "cell_type": "markdown",
   "metadata": {},
   "source": [
    "### What is the structure of your dataset?\n",
    "\n",
    "- The data consists of 183412 rows and 19 columns.\n",
    "- It has about 5 categorical data and 4 quantitative data.\n",
    "\n",
    "### What is/are the main feature(s) of interest in your dataset?\n",
    "\n",
    "- When are most trips taken in terms of time of day and day of the week?\n",
    "- How long does the average trip take?\n",
    "- And whether all the phenomena above depends on whether the user is customer or subscriber, their gender, or their age?\n",
    "\n",
    "### What features in the dataset do you think will help support your investigation into your feature(s) of interest?\n",
    "\n",
    "- The user type (Either a customer or a subscriber), gender, member birth year and age, and time (hour of the day or day of the week).\n"
   ]
  },
  {
   "cell_type": "markdown",
   "metadata": {},
   "source": [
    "## Univariate Exploration\n"
   ]
  },
  {
   "cell_type": "code",
   "execution_count": 21,
   "metadata": {
    "scrolled": true
   },
   "outputs": [
    {
     "data": {
      "image/png": "[encoded data removed]",
      "text/plain": [
       "<Figure size 432x288 with 1 Axes>"
      ]
     },
     "metadata": {
      "needs_background": "light"
     },
     "output_type": "display_data"
    }
   ],
   "source": [
    "genders = df_clean['member_gender'].value_counts()\n",
    "genders.plot.bar();\n",
    "plt.xlabel('Gender');\n",
    "plt.ylabel('Count');\n",
    "plt.title(\"Number of users according to their gender\");"
   ]
  },
  {
   "cell_type": "code",
   "execution_count": 22,
   "metadata": {},
   "outputs": [
    {
     "data": {
      "image/png": "[encoded data removed]",
      "text/plain": [
       "<Figure size 720x504 with 1 Axes>"
      ]
     },
     "metadata": {},
     "output_type": "display_data"
    }
   ],
   "source": [
    "plt.figure(figsize=[10, 7])\n",
    "labels = ['Male', 'Female', 'Other']\n",
    "plt.pie(genders, labels = labels);\n",
    "plt.title(\"Number of users according to their gender\");"
   ]
  },
  {
   "cell_type": "markdown",
   "metadata": {},
   "source": [
    "> The dataset contains many males than females."
   ]
  },
  {
   "cell_type": "code",
   "execution_count": 23,
   "metadata": {
    "scrolled": true
   },
   "outputs": [
    {
     "data": {
      "image/png": "[encoded data removed]",
      "text/plain": [
       "<Figure size 432x288 with 1 Axes>"
      ]
     },
     "metadata": {
      "needs_background": "light"
     },
     "output_type": "display_data"
    }
   ],
   "source": [
    "user_type = df_clean['user_type'].value_counts();\n",
    "user_type.plot.bar();\n",
    "plt.xlabel('User Type');\n",
    "plt.ylabel('Count');\n",
    "plt.title(\"Number of users according to their type\");"
   ]
  },
  {
   "cell_type": "markdown",
   "metadata": {},
   "source": [
    "> The dataset has more subscribers than customers"
   ]
  },
  {
   "cell_type": "code",
   "execution_count": 24,
   "metadata": {},
   "outputs": [
    {
     "data": {
      "image/png": "[encoded data removed]",
      "text/plain": [
       "<Figure size 720x504 with 1 Axes>"
      ]
     },
     "metadata": {
      "needs_background": "light"
     },
     "output_type": "display_data"
    }
   ],
   "source": [
    "plt.figure(figsize=[10, 7])\n",
    "\n",
    "bins = np.arange(df_clean['member_birth_year'].min(), df_clean['member_birth_year'].max() + 1)\n",
    "\n",
    "plt.hist(df_clean['member_birth_year'], bins= bins);\n",
    "plt.xlabel('Birth Year');\n",
    "plt.ylabel('Count');\n",
    "plt.title(\"Distribution of users' birth year\");"
   ]
  },
  {
   "cell_type": "code",
   "execution_count": 25,
   "metadata": {},
   "outputs": [
    {
     "data": {
      "image/png": "[encoded data removed]",
      "text/plain": [
       "<Figure size 720x504 with 1 Axes>"
      ]
     },
     "metadata": {
      "needs_background": "light"
     },
     "output_type": "display_data"
    }
   ],
   "source": [
    "plt.figure(figsize=[10, 7])\n",
    "\n",
    "bins = np.arange(df_clean['age'].min(), df_clean['age'].max())\n",
    "\n",
    "plt.hist(df_clean['age'], bins = bins);\n",
    "plt.xlabel('Age');\n",
    "plt.ylabel('Count');\n",
    "plt.title(\"Distribution of users' ages\");"
   ]
  },
  {
   "cell_type": "markdown",
   "metadata": {},
   "source": [
    "> The majority of users' birth is between 1979 (~ 41 years old) and 1997 (~ 22 years old)."
   ]
  },
  {
   "cell_type": "code",
   "execution_count": 26,
   "metadata": {},
   "outputs": [
    {
     "data": {
      "image/png": "[encoded data removed]",
      "text/plain": [
       "<Figure size 432x288 with 1 Axes>"
      ]
     },
     "metadata": {
      "needs_background": "light"
     },
     "output_type": "display_data"
    }
   ],
   "source": [
    "base_color = sb.color_palette()[0]\n",
    "\n",
    "sb.countplot(data = df_clean, x = 'bike_share_for_all_trip', color= base_color);\n",
    "plt.xlabel('Bike Share For All Trip');\n",
    "plt.title(\"Users Who Bike Share For All Trip\");"
   ]
  },
  {
   "cell_type": "markdown",
   "metadata": {},
   "source": [
    "> The bike share system in San Francisco is not used by the majority of users."
   ]
  },
  {
   "cell_type": "code",
   "execution_count": 27,
   "metadata": {
    "scrolled": false
   },
   "outputs": [
    {
     "data": {
      "image/png": "[encoded data removed]",
      "text/plain": [
       "<Figure size 720x720 with 1 Axes>"
      ]
     },
     "metadata": {
      "needs_background": "light"
     },
     "output_type": "display_data"
    }
   ],
   "source": [
    "plt.figure(figsize=[10, 10])\n",
    "bins = np.arange(df_clean['duration_sec'].min(), 5000)\n",
    "sb.histplot(data = df_clean, x='duration_sec', bins = bins);\n",
    "plt.xlim(0, 5000);\n",
    "plt.xlabel('Trip Duration in Seconds');\n",
    "plt.title(\"Distribution of Trip Duration in Seconds\");"
   ]
  },
  {
   "cell_type": "markdown",
   "metadata": {},
   "source": [
    "> The trip duration (in seconds) is right skewed. Most trips take between ~ 50 - 1000 sec"
   ]
  },
  {
   "cell_type": "code",
   "execution_count": 86,
   "metadata": {},
   "outputs": [
    {
     "data": {
      "image/png": "[encoded data removed]",
      "text/plain": [
       "<Figure size 504x360 with 1 Axes>"
      ]
     },
     "metadata": {
      "needs_background": "light"
     },
     "output_type": "display_data"
    }
   ],
   "source": [
    "days = ['Saturday', 'Sunday', 'Monday', 'Tuesday', 'Wednesday', 'Thursday', 'Friday']\n",
    "plt.figure(figsize=[7, 5])\n",
    "sb.countplot(data = df_clean, x='day', color = base_color, order = days);\n",
    "plt.title(\"Count of trips each day\");"
   ]
  },
  {
   "cell_type": "markdown",
   "metadata": {},
   "source": [
    "> Users tends to take bike trips more on Thursday, then Tuesday, then Wednesday. On the weekend the number of trips is roughly the same on Saturdays and Sundays."
   ]
  },
  {
   "cell_type": "code",
   "execution_count": 85,
   "metadata": {},
   "outputs": [
    {
     "data": {
      "image/png": "[encoded data removed]",
      "text/plain": [
       "<Figure size 720x360 with 1 Axes>"
      ]
     },
     "metadata": {
      "needs_background": "light"
     },
     "output_type": "display_data"
    }
   ],
   "source": [
    "hour_order = ['00','01','02','03','04','05','06','07','08','09','10','11','12','13','14','15','16','17','18','19',\n",
    "              '20','21','22','23']\n",
    "plt.figure(figsize=[10, 5])\n",
    "sb.countplot(data = df_clean, x='time_of_day', color = base_color, order=hour_order);\n",
    "plt.xlabel('Hours');\n",
    "plt.title(\"Count of trips in each hour\");"
   ]
  },
  {
   "cell_type": "markdown",
   "metadata": {},
   "source": [
    "> Most trips takes place at 5 PM and at 8 AM. Obviously, There are not many trips from 12 AM to 5 AM."
   ]
  },
  {
   "cell_type": "code",
   "execution_count": null,
   "metadata": {},
   "outputs": [],
   "source": []
  },
  {
   "cell_type": "markdown",
   "metadata": {},
   "source": [
    "### Discuss the distribution(s) of your variable(s) of interest. Were there any unusual points? Did you need to perform any transformations?\n",
    "\n",
    "- The dataset contains many males than females.\n",
    "- The distribution of users' age is right skewed. The majority of users' birth is between 1979 (~ 41 years old) and 1997 (~ 22 years old).\n",
    "- Users tends to take bike trips more on Thursday, then Tuesday, then Wednesday. On the weekend the number of trips is roughly the same on Saturdays and Sundays. That is normal which may indicate that users take bikes for trips during working days.\n",
    "- The distribution of the hours of day is binormal. Most trips takes place between 7 - 9 AM and at 4 - 6 PM. Obviously, There are not many trips from 12 AM to 5 AM.\n",
    "\n",
    "### Of the features you investigated, were there any unusual distributions? Did you perform any operations on the data to tidy, adjust, or change the form of the data? If so, why did you do this?\n",
    "\n",
    "- The distributions seem normal and logical. Data wrangling process envolved simple steps for changing categorical data types as 'Categorical' to be able to plot using Seaborn. Changing the time (start time and end time) to pandas datetime type to easily extract the hours of day and day of week from the dates."
   ]
  },
  {
   "cell_type": "markdown",
   "metadata": {},
   "source": [
    "## Bivariate Exploration\n",
    "\n"
   ]
  },
  {
   "cell_type": "code",
   "execution_count": 65,
   "metadata": {},
   "outputs": [
    {
     "data": {
      "image/png": "[encoded data removed]",
      "text/plain": [
       "<Figure size 720x360 with 1 Axes>"
      ]
     },
     "metadata": {
      "needs_background": "light"
     },
     "output_type": "display_data"
    }
   ],
   "source": [
    "plt.figure(figsize=[10, 5])\n",
    "sb.regplot(data = df_clean, x='member_birth_year', y='duration_sec');\n",
    "plt.xlim(1920, 2002);\n",
    "plt.xlabel('Users Birth Year');\n",
    "plt.ylabel('Trip Duration in Seconds');\n",
    "plt.title('Relation between Users Birth Year and Trip Duration in Seconds');"
   ]
  },
  {
   "cell_type": "code",
   "execution_count": 61,
   "metadata": {},
   "outputs": [
    {
     "data": {
      "text/plain": [
       "Text(0.5, 1.0, \"Users' age and their trip duration in seconds\")"
      ]
     },
     "execution_count": 61,
     "metadata": {},
     "output_type": "execute_result"
    },
    {
     "data": {
      "image/png": "[encoded data removed]",
      "text/plain": [
       "<Figure size 720x360 with 1 Axes>"
      ]
     },
     "metadata": {
      "needs_background": "light"
     },
     "output_type": "display_data"
    }
   ],
   "source": [
    "plt.figure(figsize=[10, 5])\n",
    "sb.regplot(data = df_clean, x='age', y='duration_sec');\n",
    "plt.xlabel('Age');\n",
    "plt.ylabel('Trip Duration in Seconds');\n",
    "plt.title('Users\\' age and their trip duration in seconds');"
   ]
  },
  {
   "cell_type": "markdown",
   "metadata": {},
   "source": [
    "> People who are between 20 and 40 years old tends to take more time in there trips."
   ]
  },
  {
   "cell_type": "code",
   "execution_count": 66,
   "metadata": {},
   "outputs": [
    {
     "data": {
      "image/png": "[encoded data removed]",
      "text/plain": [
       "<Figure size 720x360 with 1 Axes>"
      ]
     },
     "metadata": {
      "needs_background": "light"
     },
     "output_type": "display_data"
    }
   ],
   "source": [
    "plt.figure(figsize=[10, 5])\n",
    "sb.boxplot(data = df_clean, x='user_type', y='duration_sec');\n",
    "plt.ylim(-10, 3000);\n",
    "plt.xlabel('User Type');\n",
    "plt.ylabel('Trip Duration in Seconds');\n",
    "plt.title('Users Type and Trip Duration in Seconds');"
   ]
  },
  {
   "cell_type": "markdown",
   "metadata": {},
   "source": [
    "> Customers spends more time in their bike trips more than subscribers."
   ]
  },
  {
   "cell_type": "code",
   "execution_count": 67,
   "metadata": {},
   "outputs": [
    {
     "data": {
      "image/png": "[encoded data removed]",
      "text/plain": [
       "<Figure size 720x504 with 1 Axes>"
      ]
     },
     "metadata": {
      "needs_background": "light"
     },
     "output_type": "display_data"
    }
   ],
   "source": [
    "plt.figure(figsize=[10, 7])\n",
    "sb.boxplot(data = df_clean, x='member_gender', y='duration_sec');\n",
    "plt.ylim(-10, 2500);\n",
    "plt.xlabel('Gender');\n",
    "plt.ylabel('Trip Duration in Seconds');\n",
    "plt.title('Users Gender and Trip Duration in Seconds');"
   ]
  },
  {
   "cell_type": "markdown",
   "metadata": {},
   "source": [
    "> Female users average bike trip duration is slightly more than male users."
   ]
  },
  {
   "cell_type": "code",
   "execution_count": 69,
   "metadata": {},
   "outputs": [
    {
     "data": {
      "image/png": "[encoded data removed]",
      "text/plain": [
       "<Figure size 720x720 with 1 Axes>"
      ]
     },
     "metadata": {
      "needs_background": "light"
     },
     "output_type": "display_data"
    }
   ],
   "source": [
    "plt.figure(figsize = [10, 10]);\n",
    "\n",
    "sb.countplot(data = df_clean, x = 'member_gender', hue = 'user_type');\n",
    "\n",
    "plt.title('Users Birth Year and Trip Duration in Seconds');"
   ]
  },
  {
   "cell_type": "markdown",
   "metadata": {},
   "source": [
    "> Subscribed users numbers are way more greater than customers despite of the gender."
   ]
  },
  {
   "cell_type": "code",
   "execution_count": null,
   "metadata": {},
   "outputs": [],
   "source": []
  },
  {
   "cell_type": "markdown",
   "metadata": {},
   "source": [
    "### Talk about some of the relationships you observed in this part of the investigation. How did the feature(s) of interest vary with other features in the dataset?\n",
    "\n",
    "- People who are between 20 and 40 years old tends to take more time in there trips.\n",
    "- Customers spends more time in their bike trips more than subscribers.\n",
    "- Female users average bike trip duration is slightly more than male users.\n",
    "- Subscribed users numbers are way more greater than customers despite of the gender.\n",
    "\n",
    "### Did you observe any interesting relationships between the other features (not the main feature(s) of interest)?\n",
    "\n",
    "- Trip duration in female users and customer users is longer despite of their low count in the dataset."
   ]
  },
  {
   "cell_type": "markdown",
   "metadata": {},
   "source": [
    "## Multivariate Exploration\n"
   ]
  },
  {
   "cell_type": "code",
   "execution_count": 74,
   "metadata": {},
   "outputs": [
    {
     "data": {
      "image/png": "[encoded data removed]",
      "text/plain": [
       "<Figure size 1080x720 with 1 Axes>"
      ]
     },
     "metadata": {
      "needs_background": "light"
     },
     "output_type": "display_data"
    }
   ],
   "source": [
    "df_sample = df_clean.sample(20000, random_state=1)\n",
    "\n",
    "plt.figure(figsize = [15, 10]);\n",
    "user_type_markers = [['Customer', 'o'],\n",
    "               ['Subscriber', 'x']]\n",
    "\n",
    "for cat, marker in user_type_markers:\n",
    "    df_cat = df_sample[df_sample['user_type'] == cat]\n",
    "    plt.scatter(data = df_cat, x = 'age', y = 'duration_sec', marker = marker);\n",
    "    \n",
    "plt.legend(['Customer','Subscriber']);\n",
    "plt.xlabel('Age');\n",
    "plt.ylabel('Duration in Seconds');\n",
    "plt.title(\"Relation between age and trip duration for each user type\");"
   ]
  },
  {
   "cell_type": "code",
   "execution_count": 75,
   "metadata": {},
   "outputs": [
    {
     "data": {
      "image/png": "[encoded data removed]",
      "text/plain": [
       "<Figure size 1080x720 with 1 Axes>"
      ]
     },
     "metadata": {
      "needs_background": "light"
     },
     "output_type": "display_data"
    }
   ],
   "source": [
    "# Note: I used the same sample of the above visualization.\n",
    "\n",
    "plt.figure(figsize = [15, 10]);\n",
    "user_type_markers = [['Male', '^'], ['Female', 'o'], ['Other', 'x']]\n",
    "\n",
    "for cat, marker in user_type_markers:\n",
    "    df_cat = df_sample[df_sample['member_gender'] == cat]\n",
    "    plt.scatter(data = df_cat, x = 'age', y = 'duration_sec', marker = marker);\n",
    "\n",
    "plt.legend(['Male', 'Female', 'Other']);\n",
    "plt.xlabel('Age');\n",
    "plt.ylabel('Duration in Seconds');\n",
    "plt.title(\"Relation between age and trip duration for each gender\");"
   ]
  },
  {
   "cell_type": "code",
   "execution_count": 84,
   "metadata": {},
   "outputs": [
    {
     "data": {
      "text/plain": [
       "<Figure size 1440x1440 with 0 Axes>"
      ]
     },
     "metadata": {},
     "output_type": "display_data"
    },
    {
     "data": {
      "image/png": "[encoded data removed]",
      "text/plain": [
       "<Figure size 2610.38x360 with 7 Axes>"
      ]
     },
     "metadata": {
      "needs_background": "light"
     },
     "output_type": "display_data"
    }
   ],
   "source": [
    "days = ['Saturday', 'Sunday', 'Monday', 'Tuesday', 'Wednesday', 'Thursday', 'Friday']\n",
    "plt.figure(figsize = [20, 20]);\n",
    "g = sb.catplot(data = df_clean, x = 'user_type', col = 'day', hue = 'member_gender', kind=\"count\", col_order=days);\n",
    "g.set_axis_labels('User Type', 'Duration in Seconds');"
   ]
  },
  {
   "cell_type": "markdown",
   "metadata": {},
   "source": [
    "### Talk about some of the relationships you observed in this part of the investigation. Were there features that strengthened each other in terms of looking at your feature(s) of interest?\n",
    "\n",
    "- Customer male users and Subscriber male users are more than other customer/subscriber female/other users.\n",
    "- The majority of older users are male users and they spend little time in their bike trips.\n",
    "- The majority of older users are Subscribers and they spend little time in their bike trips.\n",
    "- Younger male users' trip duration is slightly more than the younger users of other genders.\n",
    "- Younger Customers trip duration is slightly more than younger subscribers.\n",
    "\n",
    "### Were there any interesting or surprising interactions between features?\n",
    "\n",
    "- No."
   ]
  },
  {
   "cell_type": "code",
   "execution_count": null,
   "metadata": {},
   "outputs": [],
   "source": []
  }
 ],
 "metadata": {
  "kernelspec": {
   "display_name": "Python 3",
   "language": "python",
   "name": "python3"
  },
  "language_info": {
   "codemirror_mode": {
    "name": "ipython",
    "version": 3
   },
   "file_extension": ".py",
   "mimetype": "text/x-python",
   "name": "python",
   "nbconvert_exporter": "python",
   "pygments_lexer": "ipython3",
   "version": "3.7.3"
  }
 },
 "nbformat": 4,
 "nbformat_minor": 2
}
