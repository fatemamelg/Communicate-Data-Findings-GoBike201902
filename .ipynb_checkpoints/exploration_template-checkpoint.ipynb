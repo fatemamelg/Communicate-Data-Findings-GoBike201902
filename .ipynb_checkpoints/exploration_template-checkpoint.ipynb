{
 "cells": [
  {
   "cell_type": "markdown",
   "metadata": {},
   "source": [
    "# PISA Dataset Exploration\n",
    "## by Fatema Mahmoud\n",
    "\n",
    "## Preliminary Wrangling\n",
    "\n",
    "> PISA is a survey of students' skills and knowledge as they approach the end of compulsory education. It is not a conventional school test. Rather than examining how well students have learned the school curriculum, it looks at how well prepared they are for life beyond school. Around 510,000 students in 65 economies took part in the PISA 2012 assessment of reading, mathematics and science representing about 28 million 15-year-olds globally. Of those economies, 44 took part in an assessment of creative problem solving and 18 in an assessment of financial literacy."
   ]
  },
  {
   "cell_type": "code",
   "execution_count": 1,
   "metadata": {},
   "outputs": [],
   "source": [
    "# import all packages and set plots to be embedded inline\n",
    "import numpy as np\n",
    "import pandas as pd\n",
    "import matplotlib.pyplot as plt\n",
    "import seaborn as sb\n",
    "\n",
    "%matplotlib inline"
   ]
  },
  {
   "cell_type": "markdown",
   "metadata": {},
   "source": [
    "> Load in your dataset and describe its properties through the questions below.\n",
    "Try and motivate your exploration goals through this section."
   ]
  },
  {
   "cell_type": "code",
   "execution_count": 2,
   "metadata": {
    "scrolled": false
   },
   "outputs": [],
   "source": [
    "chunksize = 50000\n",
    "batch = 1\n",
    "\n",
    "df = pd.DataFrame()\n",
    "for c in pd.read_csv('pisa2012.csv', chunksize = chunksize):\n",
    "    df = df.append(c, ignore_index = True)\n",
    "\n",
    "print(df.shape)\n",
    "df.head()"
   ]
  },
  {
   "cell_type": "code",
   "execution_count": null,
   "metadata": {},
   "outputs": [],
   "source": [
    "df = pd.read_csv('pisa2012.csv', low_memory = False)\n",
    "print(df.shape)\n",
    "df.head()"
   ]
  },
  {
   "cell_type": "code",
   "execution_count": null,
   "metadata": {},
   "outputs": [],
   "source": [
    "df.info()"
   ]
  },
  {
   "cell_type": "code",
   "execution_count": 11,
   "metadata": {},
   "outputs": [
    {
     "data": {
      "text/plain": [
       "duration_sec                 4752\n",
       "start_time                 183401\n",
       "end_time                   183397\n",
       "start_station_id              329\n",
       "start_station_name            329\n",
       "start_station_latitude        334\n",
       "start_station_longitude       335\n",
       "end_station_id                329\n",
       "end_station_name              329\n",
       "end_station_latitude          335\n",
       "end_station_longitude         335\n",
       "bike_id                      4646\n",
       "user_type                       2\n",
       "member_birth_year              75\n",
       "member_gender                   3\n",
       "bike_share_for_all_trip         2\n",
       "dtype: int64"
      ]
     },
     "execution_count": 11,
     "metadata": {},
     "output_type": "execute_result"
    }
   ],
   "source": [
    "df.nunique()"
   ]
  },
  {
   "cell_type": "code",
   "execution_count": 27,
   "metadata": {},
   "outputs": [
    {
     "data": {
      "text/plain": [
       "duration_sec                  0\n",
       "start_time                    0\n",
       "end_time                      0\n",
       "start_station_id            197\n",
       "start_station_name          197\n",
       "start_station_latitude        0\n",
       "start_station_longitude       0\n",
       "end_station_id              197\n",
       "end_station_name            197\n",
       "end_station_latitude          0\n",
       "end_station_longitude         0\n",
       "bike_id                       0\n",
       "user_type                     0\n",
       "member_birth_year          8265\n",
       "member_gender              8265\n",
       "bike_share_for_all_trip       0\n",
       "dtype: int64"
      ]
     },
     "execution_count": 27,
     "metadata": {},
     "output_type": "execute_result"
    }
   ],
   "source": [
    "df.isnull().sum()"
   ]
  },
  {
   "cell_type": "code",
   "execution_count": 22,
   "metadata": {},
   "outputs": [
    {
     "data": {
      "text/plain": [
       "array(['Customer', 'Subscriber'], dtype=object)"
      ]
     },
     "execution_count": 22,
     "metadata": {},
     "output_type": "execute_result"
    }
   ],
   "source": [
    "df.user_type.unique()"
   ]
  },
  {
   "cell_type": "code",
   "execution_count": 23,
   "metadata": {},
   "outputs": [
    {
     "data": {
      "text/plain": [
       "array(['Montgomery St BART Station (Market St at 2nd St)',\n",
       "       'The Embarcadero at Steuart St', 'Market St at Dolores St',\n",
       "       'Grove St at Masonic Ave', 'Frank H Ogawa Plaza',\n",
       "       '4th St at Mission Bay Blvd S', 'Palm St at Willow St',\n",
       "       'Washington St at Kearny St', 'Post St at Kearny St',\n",
       "       'Jones St at Post St',\n",
       "       'Civic Center/UN Plaza BART Station (Market St at McAllister St)',\n",
       "       'Valencia St at 21st St', 'Channing Way at Shattuck Ave',\n",
       "       'Bancroft Way at College Ave', 'Howard St at Mary St',\n",
       "       '22nd St at Dolores St', 'Laguna St at Hayes St',\n",
       "       '5th St at Folsom', 'Telegraph Ave at 23rd St',\n",
       "       'Page St at Scott St', 'Lake Merritt BART Station',\n",
       "       'West St at 40th St', 'The Embarcadero at Sansome St',\n",
       "       'Folsom St at 9th St', 'University Ave at Oxford St',\n",
       "       'MLK Jr Way at University Ave', 'The Embarcadero at Bryant St',\n",
       "       '17th St at Valencia St', 'Valencia St at 16th St',\n",
       "       'Valencia St at 22nd St', 'Franklin Square',\n",
       "       'San Pablo Ave at MLK Jr Way', '19th St at Mission St',\n",
       "       'Market St at 10th St', 'Folsom St at 13th St',\n",
       "       'San Francisco Ferry Building (Harry Bridges Plaza)',\n",
       "       '4th St at 16th St', 'Beale St at Harrison St',\n",
       "       'Broadway at Battery St', 'Cesar Chavez St at Dolores St',\n",
       "       'San Fernando St at 4th St', 'Grove St at Divisadero',\n",
       "       'Sanchez St at 17th St', 'Harmon St at Adeline St',\n",
       "       'Mission Playground', 'Davis St at Jackson St',\n",
       "       'Haste St at Telegraph Ave', 'Howard St at 8th St',\n",
       "       'Folsom St at 3rd St', 'Father Alfred E Boeddeker Park',\n",
       "       'Commercial St at Montgomery St', 'Hubbell St at 16th St',\n",
       "       'San Francisco Public Library (Grove St at Hyde St)',\n",
       "       'Bancroft Way at Telegraph Ave', '19th Street BART Station',\n",
       "       '18th St at Noe St', 'Hyde St at Post St', '24th St at Market St',\n",
       "       'Vine St at Shattuck Ave',\n",
       "       'San Francisco Caltrain (Townsend St at 4th St)',\n",
       "       'Valencia St at Clinton Park',\n",
       "       'Union Square (Powell St at Post St)', 'Broderick St at Oak St',\n",
       "       'San Francisco Caltrain Station 2  (Townsend St at 4th St)',\n",
       "       'North Berkeley BART Station', 'Downtown Berkeley BART',\n",
       "       'Fell St at Stanyan St', 'San Salvador St at 9th St',\n",
       "       'Marston Campbell Park', 'Oregon St at Adeline St',\n",
       "       '11th St at Natoma St', 'Harrison St at 20th St',\n",
       "       'Haste St at College Ave', '24th St at Bartlett St',\n",
       "       'Sanchez St at 15th St', 'Telegraph Ave at 19th St',\n",
       "       'Powell St BART Station (Market St at 5th St)',\n",
       "       'Jersey St at Castro St', 'Pierce St at Haight St',\n",
       "       'MacArthur BART Station', 'El Embarcadero at Grand Ave',\n",
       "       '23rd St at San Bruno Ave', 'Golden Gate Ave at Hyde St',\n",
       "       'S Van Ness Ave at Market St', 'Jackson Playground',\n",
       "       'San Fernando St at 7th St', 'West St at University Ave',\n",
       "       'Myrtle St at Polk St', 'Woolsey St at Sacramento St',\n",
       "       'Townsend St at 7th St', 'Harrison St at 17th St',\n",
       "       'West Oakland BART Station', 'Cyril Magnin St at Ellis St',\n",
       "       'Fulton St at Bancroft Way', '14th St at Mission St',\n",
       "       'San Pedro Square', 'Market St at Franklin St',\n",
       "       'Folsom St at 19th St', 'College Ave at Taft Ave',\n",
       "       'Rhode Island St at 17th St', 'Shattuck Ave at Hearst Ave',\n",
       "       'The Embarcadero at Vallejo St', 'Webster St at Grove St',\n",
       "       'Raymond Kimbell Playground', 'Victoria Manalo Draves Park',\n",
       "       '20th St at Bryant St', 'S Park St at 3rd St',\n",
       "       'Lakeshore Ave at Trestle Glen Rd',\n",
       "       'Channing Way at San Pablo Ave', 'Mission Dolores Park',\n",
       "       'Lombard St at Columbus Ave', '17th St at Dolores St',\n",
       "       'Precita Park', 'Central Ave at Fell St', '4th St at Harrison St',\n",
       "       'Horton St at 40th St', 'Golden Gate Ave at Franklin St',\n",
       "       'Embarcadero BART Station (Beale St at Market St)',\n",
       "       '9th St at San Fernando St', '3rd St at Townsend St',\n",
       "       'McCoppin St at Valencia St', '13th St at Franklin St',\n",
       "       'Mission Bay Kids Park', 'Potrero Ave and Mariposa St',\n",
       "       'Emeryville Public Market', 'Union St at 10th St',\n",
       "       'Jackson St at 11th St', 'Broadway at Kearny',\n",
       "       'Paseo De San Antonio at 2nd St', 'Valencia St at Cesar Chavez St',\n",
       "       'Rockridge BART Station', '8th St at Brannan St',\n",
       "       'College Ave at Alcatraz Ave', '16th St Mission BART Station 2',\n",
       "       'San Jose Diridon Station', 'Masonic Ave at Turk St',\n",
       "       '17th & Folsom Street Park (17th St at Folsom St)',\n",
       "       'Grand Ave at Webster St', '7th St at Brannan St',\n",
       "       'Steuart St at Market St', 'Scott St at Golden Gate Ave',\n",
       "       'Parker St at Fulton St', 'Berkeley Civic Center',\n",
       "       'Clay St at Battery St', '11th St at Bryant St',\n",
       "       'Powell St BART Station (Market St at 4th St)',\n",
       "       'Doyle St at 59th St', '34th St at Telegraph Ave', 'Esprit Park',\n",
       "       'Emeryville Town Hall', 'Division St at Potrero Ave',\n",
       "       'Irwin St at 8th St', 'Pierce Ave at Market St',\n",
       "       'Howard St at Beale St', 'Washington St at 8th St', 'Snow Park',\n",
       "       'Dolores St at 15th St', 'Hearst Ave at Euclid Ave',\n",
       "       'Telegraph Ave at Ashby Ave', '8th St at Ringold St',\n",
       "       '14th St at Mandela Pkwy', 'Morrison Ave at Julian St',\n",
       "       'Church St at Duboce Ave', 'Townsend St at 5th St',\n",
       "       'Valencia St at 24th St', '16th St at Prosper St',\n",
       "       '5th St at Virginia St', \"Webster St at O'Farrell St\",\n",
       "       'Shattuck Ave at Telegraph Ave', 'Jackson St at 5th St',\n",
       "       'Berry St at 4th St', '2nd St at Townsend St',\n",
       "       'Telegraph Ave at Carleton St', 'Ellsworth St at Russell St',\n",
       "       'Adeline St at 40th St', 'Bay Pl at Vernon St',\n",
       "       'Russell St at College Ave', '22nd St Caltrain Station',\n",
       "       'Folsom St at 15th St', nan, 'Ninth St at Heinz Ave',\n",
       "       '15th St at Potrero Ave', '23rd St at Tennessee St',\n",
       "       'McAllister St at Baker St', 'Bryant St at 2nd St',\n",
       "       'Mississippi St at 17th St', 'Ryland Park',\n",
       "       'Fountain Alley at S 2nd St', 'Turk St at Fillmore St',\n",
       "       'Ashby BART Station', 'Shattuck Ave at 51st St',\n",
       "       'Julian St at The Alameda', '20th St at Dolores St',\n",
       "       'Broadway at Coronado Ave', 'Grand Ave at Santa Clara Ave',\n",
       "       'Eureka Valley Recreation Center', 'Parker Ave at McAllister St',\n",
       "       'Berry St at King St',\n",
       "       'Salesforce Transit Center (Natoma St at 2nd St)',\n",
       "       'San Antonio Park', 'Lakeside Dr at 14th St',\n",
       "       '16th St Mission BART', 'Stanford Ave at Hollis St',\n",
       "       'Broadway at 40th St',\n",
       "       'Mechanics Monument Plaza (Market St at Bush St)',\n",
       "       'Madison St at 17th St', 'Grand Ave at Perkins St',\n",
       "       'Garfield Square (25th St at Harrison St)', '53rd St at Hollis St',\n",
       "       '2nd St at Julian St', 'Telegraph Ave at Alcatraz Ave',\n",
       "       'San Francisco City Hall (Polk St at Grove St)',\n",
       "       '5th St at Brannan St', '10th St at Fallon St',\n",
       "       'Yerba Buena Center for the Arts (Howard St at 3rd St)',\n",
       "       '30th St at San Jose Ave', '29th St at Tiffany Ave',\n",
       "       'Webster St at 2nd St', 'Koshland Park', 'Jersey St at Church St',\n",
       "       'Santa Clara St at 7th St', 'Telegraph Ave at 58th St',\n",
       "       'Fruitvale BART Station', 'Addison St at Fourth St',\n",
       "       'Leavenworth St at Broadway', 'Telegraph Ave at 27th St',\n",
       "       'Potrero del Sol Park (25th St at Utah St)',\n",
       "       'Spear St at Folsom St', 'College Ave at Harwood Ave',\n",
       "       \"O'Farrell St at Divisadero St\", '1st St at Folsom St',\n",
       "       'Bryant St at 15th St', 'Golden Gate Ave at Polk St',\n",
       "       '5th St at San Salvador St', '29th St at Church St',\n",
       "       'Alamo Square (Steiner St at Fulton St)',\n",
       "       'Autumn Parkway at Coleman Ave', 'Fulton St at Ashby Ave',\n",
       "       'Howard St at 2nd St', '19th St at Florida St',\n",
       "       'Market St at 45th St', 'Derby St at College Ave',\n",
       "       'Market St at Brockhurst St', 'California St at University Ave',\n",
       "       'MLK Jr Way at 14th St', 'Market St at 40th St',\n",
       "       'Julian St at 6th St', 'Cahill Park', 'San Jose City Hall',\n",
       "       'Virginia St at Shattuck Ave', 'Jack London Square',\n",
       "       'Milvia St at Derby St', 'Webster St at 19th St',\n",
       "       '24th St at Chattanooga St', 'The Alameda at Bush St',\n",
       "       '49th St at Telegraph Ave', 'Broadway at 30th St',\n",
       "       'Bryant St at 6th St', 'Empire St at 1st St',\n",
       "       'China Basin St at 3rd St', '47th St at San Pablo Ave',\n",
       "       'San Salvador St at 1st St', '45th St at Manila',\n",
       "       'San Carlos St at Market St', 'San Pablo Ave at 27th St',\n",
       "       'Market St at Park St', 'Franklin St at 9th St',\n",
       "       'Almaden Blvd at San Fernando St', 'Oak St at 1st St',\n",
       "       'William St at 10th St', 'Isabella St at San Pablo Ave',\n",
       "       'Guerrero Park', '10th St at University Ave', 'DeFremery Park',\n",
       "       'Fifth St at Delaware St', 'Williams Ave at 3rd St',\n",
       "       '4th Ave at E 12th St (Temporary Location)',\n",
       "       'Shattuck Ave at 55th St', '59th St at Horton St', 'SAP Center',\n",
       "       '37th St at West St', 'Almaden Blvd at Balbach St',\n",
       "       '65th St at Hollis St', 'Santa Clara St at Almaden Blvd',\n",
       "       'Ninth St at Parker St', 'Bushrod Park', 'Empire St at 7th St',\n",
       "       'Mendell St at Fairfax Ave', '16th St Depot',\n",
       "       'Newhall St at 3rd St', 'George St at 1st St',\n",
       "       'Mission St at 1st St', 'Duboce Park', 'Locust St at Grant St',\n",
       "       '32nd St at Adeline St', 'Mosswood Park',\n",
       "       'Delmas Ave and San Fernando St', 'Lane St at Revere Ave',\n",
       "       '2nd Ave at E 18th St', 'San Carlos St at 11th St',\n",
       "       'Williams Ave at Apollo St', 'MacArthur Blvd at Telegraph Ave',\n",
       "       'Bestor Art Park', 'College Ave at Bryant Ave',\n",
       "       'Miles Ave at Cavour St', 'Saint James Park',\n",
       "       '14th St at Filbert St', 'Foothill Blvd at Fruitvale Ave',\n",
       "       'Market St at 8th St', 'Backesto Park (Jackson St at 13th St)',\n",
       "       '10th Ave at E 15th St', 'Alcatraz Ave at Shattuck Ave',\n",
       "       '55th St at Telegraph Ave', 'Genoa St at 55th St',\n",
       "       'Dover St at 57th St', 'San Pablo Park',\n",
       "       '6th Ave at E 12th St (Temporary Location)', 'Taylor St at 9th St',\n",
       "       '27th St at MLK Jr Way', 'Foothill Blvd at Harrington Ave',\n",
       "       '23rd Ave at Foothill Blvd', 'San Pedro St at Hedding St',\n",
       "       '45th St at MLK Jr Way', '5th St at Taylor St',\n",
       "       'Foothill Blvd at 42nd Ave', 'Willow St at Vine St',\n",
       "       '26th Ave at International Blvd', 'Farnam St at Fruitvale Ave',\n",
       "       '21st Ave at International Blvd', '2nd St at Folsom St'],\n",
       "      dtype=object)"
      ]
     },
     "execution_count": 23,
     "metadata": {},
     "output_type": "execute_result"
    }
   ],
   "source": [
    "df.start_station_name.unique()"
   ]
  },
  {
   "cell_type": "code",
   "execution_count": 24,
   "metadata": {},
   "outputs": [
    {
     "data": {
      "text/plain": [
       "array(['Commercial St at Montgomery St', 'Berry St at 4th St',\n",
       "       'Powell St BART Station (Market St at 4th St)',\n",
       "       'Central Ave at Fell St', '10th Ave at E 15th St',\n",
       "       'Broadway at Kearny', 'San Jose Diridon Station',\n",
       "       'Valencia St at 21st St', 'Mission Playground',\n",
       "       'San Francisco Public Library (Grove St at Hyde St)',\n",
       "       'Bryant St at 2nd St', 'Shattuck Ave at Hearst Ave',\n",
       "       'Channing Way at Shattuck Ave', '8th St at Ringold St',\n",
       "       'Broderick St at Oak St', 'Potrero Ave and Mariposa St',\n",
       "       'Market St at Franklin St', 'Telegraph Ave at 23rd St',\n",
       "       '17th St at Dolores St',\n",
       "       '6th Ave at E 12th St (Temporary Location)',\n",
       "       'McAllister St at Baker St', 'Telegraph Ave at Carleton St',\n",
       "       'Genoa St at 55th St', 'Grand Ave at Perkins St',\n",
       "       'San Francisco Ferry Building (Harry Bridges Plaza)',\n",
       "       'Folsom St at 9th St', 'Channing Way at San Pablo Ave',\n",
       "       '2nd St at Townsend St', 'Pierce St at Haight St',\n",
       "       'Potrero del Sol Park (25th St at Utah St)',\n",
       "       'Valencia St at 22nd St', 'Jackson Playground',\n",
       "       'Dolores St at 15th St', '29th St at Church St',\n",
       "       '19th St at Mission St', 'Bay Pl at Vernon St',\n",
       "       'Post St at Kearny St',\n",
       "       'Yerba Buena Center for the Arts (Howard St at 3rd St)',\n",
       "       '4th St at Mission Bay Blvd S', 'Father Alfred E Boeddeker Park',\n",
       "       'Market St at 10th St', '24th St at Chattanooga St',\n",
       "       'Pierce Ave at Market St', 'Fell St at Stanyan St',\n",
       "       '17th St at Valencia St', 'San Pablo Ave at 27th St',\n",
       "       'Howard St at Mary St', 'Davis St at Jackson St',\n",
       "       'Victoria Manalo Draves Park', 'Jersey St at Church St',\n",
       "       'Haste St at Telegraph Ave', 'Eureka Valley Recreation Center',\n",
       "       'Washington St at Kearny St', 'Grove St at Divisadero',\n",
       "       'Parker St at Fulton St', 'El Embarcadero at Grand Ave',\n",
       "       'Lake Merritt BART Station', 'Hyde St at Post St',\n",
       "       '24th St at Market St', '5th St at Brannan St',\n",
       "       '24th St at Bartlett St', 'Townsend St at 5th St',\n",
       "       'Addison St at Fourth St', 'Broadway at Battery St',\n",
       "       'Market St at Dolores St', '5th St at Virginia St',\n",
       "       'Marston Campbell Park', 'University Ave at Oxford St',\n",
       "       'Valencia St at 24th St', 'Valencia St at Cesar Chavez St',\n",
       "       'Ryland Park', 'Precita Park', 'Derby St at College Ave',\n",
       "       'Jersey St at Castro St', '11th St at Natoma St',\n",
       "       '45th St at MLK Jr Way', 'Valencia St at 16th St',\n",
       "       'San Francisco Caltrain Station 2  (Townsend St at 4th St)',\n",
       "       'Montgomery St BART Station (Market St at 2nd St)',\n",
       "       '18th St at Noe St', '37th St at West St', 'Newhall St at 3rd St',\n",
       "       'Haste St at College Ave', 'Cyril Magnin St at Ellis St',\n",
       "       'Beale St at Harrison St', 'Fulton St at Bancroft Way',\n",
       "       'San Fernando St at 4th St',\n",
       "       'Garfield Square (25th St at Harrison St)',\n",
       "       '29th St at Tiffany Ave', 'Bancroft Way at College Ave',\n",
       "       'Ashby BART Station', '11th St at Bryant St',\n",
       "       '14th St at Mandela Pkwy', 'Howard St at 8th St',\n",
       "       'Leavenworth St at Broadway', 'Locust St at Grant St',\n",
       "       'Lombard St at Columbus Ave', 'Sanchez St at 17th St',\n",
       "       '45th St at Manila', '23rd St at San Bruno Ave',\n",
       "       'Morrison Ave at Julian St', 'Sanchez St at 15th St',\n",
       "       'Koshland Park', 'Harrison St at 20th St', '2nd Ave at E 18th St',\n",
       "       'Steuart St at Market St', 'Church St at Duboce Ave',\n",
       "       'Page St at Scott St', 'Bancroft Way at Telegraph Ave',\n",
       "       'Mission Bay Kids Park', 'Folsom St at 3rd St',\n",
       "       'Valencia St at Clinton Park', 'Grand Ave at Santa Clara Ave',\n",
       "       '19th Street BART Station', 'Folsom St at 19th St',\n",
       "       'West Oakland BART Station', 'S Park St at 3rd St',\n",
       "       '5th St at Folsom',\n",
       "       'Embarcadero BART Station (Beale St at Market St)',\n",
       "       'Howard St at 2nd St', 'The Embarcadero at Sansome St',\n",
       "       'Backesto Park (Jackson St at 13th St)', 'Esprit Park',\n",
       "       'Myrtle St at Polk St', 'Franklin Square', 'Empire St at 7th St',\n",
       "       'Lakeside Dr at 14th St', 'Laguna St at Hayes St',\n",
       "       '65th St at Hollis St', '4th St at 16th St',\n",
       "       '49th St at Telegraph Ave', '16th St Mission BART Station 2',\n",
       "       'Lane St at Revere Ave', 'MLK Jr Way at University Ave',\n",
       "       '2nd St at Julian St', 'Webster St at Grove St',\n",
       "       'Telegraph Ave at Ashby Ave', 'Bryant St at 6th St',\n",
       "       '20th St at Dolores St',\n",
       "       'Powell St BART Station (Market St at 5th St)',\n",
       "       'San Francisco Caltrain (Townsend St at 4th St)',\n",
       "       '8th St at Brannan St', 'Shattuck Ave at Telegraph Ave',\n",
       "       'Downtown Berkeley BART', 'North Berkeley BART Station',\n",
       "       'Turk St at Fillmore St', 'Woolsey St at Sacramento St',\n",
       "       '4th St at Harrison St', 'The Embarcadero at Bryant St',\n",
       "       \"O'Farrell St at Divisadero St\", 'Grove St at Masonic Ave',\n",
       "       'Hubbell St at 16th St',\n",
       "       'Civic Center/UN Plaza BART Station (Market St at McAllister St)',\n",
       "       '3rd St at Townsend St', 'Fountain Alley at S 2nd St',\n",
       "       'China Basin St at 3rd St', '59th St at Horton St',\n",
       "       'Mission Dolores Park', 'San Carlos St at 11th St',\n",
       "       'Jackson St at 11th St', '22nd St Caltrain Station',\n",
       "       'Townsend St at 7th St', '7th St at Brannan St',\n",
       "       'Webster St at 2nd St', 'Ellsworth St at Russell St',\n",
       "       \"Webster St at O'Farrell St\", 'Harmon St at Adeline St',\n",
       "       '1st St at Folsom St', 'Vine St at Shattuck Ave',\n",
       "       'Stanford Ave at Hollis St', 'Jones St at Post St',\n",
       "       'West St at University Ave', 'Paseo De San Antonio at 2nd St',\n",
       "       'Duboce Park', 'The Embarcadero at Steuart St',\n",
       "       'Russell St at College Ave', 'Golden Gate Ave at Hyde St',\n",
       "       'Berkeley Civic Center', '47th St at San Pablo Ave',\n",
       "       'George St at 1st St', '53rd St at Hollis St',\n",
       "       'West St at 40th St', '15th St at Potrero Ave',\n",
       "       'Division St at Potrero Ave', 'San Pablo Ave at MLK Jr Way',\n",
       "       'Jackson St at 5th St', 'Union Square (Powell St at Post St)',\n",
       "       '4th Ave at E 12th St (Temporary Location)', 'Bushrod Park',\n",
       "       'Rhode Island St at 17th St', 'Folsom St at 13th St',\n",
       "       'Virginia St at Shattuck Ave', '16th St Mission BART',\n",
       "       'Lakeshore Ave at Trestle Glen Rd', 'Masonic Ave at Turk St', nan,\n",
       "       'Harrison St at 17th St', 'McCoppin St at Valencia St',\n",
       "       '17th & Folsom Street Park (17th St at Folsom St)',\n",
       "       '10th St at Fallon St', '34th St at Telegraph Ave',\n",
       "       'The Alameda at Bush St', '9th St at San Fernando St',\n",
       "       '20th St at Bryant St', 'Howard St at Beale St',\n",
       "       'Cesar Chavez St at Dolores St', '55th St at Telegraph Ave',\n",
       "       'S Van Ness Ave at Market St', 'Scott St at Golden Gate Ave',\n",
       "       '14th St at Mission St', 'Mississippi St at 17th St',\n",
       "       'Alamo Square (Steiner St at Fulton St)',\n",
       "       'Shattuck Ave at 51st St', 'MacArthur BART Station',\n",
       "       'Madison St at 17th St', 'Horton St at 40th St',\n",
       "       'Hearst Ave at Euclid Ave', 'Folsom St at 15th St',\n",
       "       '19th St at Florida St', 'Alcatraz Ave at Shattuck Ave',\n",
       "       'San Fernando St at 7th St', 'MLK Jr Way at 14th St',\n",
       "       'Milvia St at Derby St', 'College Ave at Alcatraz Ave',\n",
       "       'Washington St at 8th St', 'Guerrero Park',\n",
       "       'Oregon St at Adeline St', 'Parker Ave at McAllister St',\n",
       "       '23rd St at Tennessee St', 'Clay St at Battery St',\n",
       "       'Broadway at 40th St',\n",
       "       'Salesforce Transit Center (Natoma St at 2nd St)',\n",
       "       'Telegraph Ave at 19th St', 'Emeryville Public Market',\n",
       "       'Golden Gate Ave at Polk St', 'Telegraph Ave at 58th St',\n",
       "       'Foothill Blvd at Harrington Ave', 'The Embarcadero at Vallejo St',\n",
       "       '16th St at Prosper St', 'Berry St at King St',\n",
       "       'Broadway at Coronado Ave', 'Market St at 45th St',\n",
       "       'Mechanics Monument Plaza (Market St at Bush St)',\n",
       "       'Dover St at 57th St', 'Miles Ave at Cavour St',\n",
       "       'Rockridge BART Station', 'Fifth St at Delaware St',\n",
       "       'College Ave at Harwood Ave', 'California St at University Ave',\n",
       "       'Union St at 10th St', '5th St at San Salvador St',\n",
       "       'Mosswood Park', 'William St at 10th St', '5th St at Taylor St',\n",
       "       'Julian St at The Alameda', 'Irwin St at 8th St',\n",
       "       'Market St at Brockhurst St', 'Adeline St at 40th St',\n",
       "       '30th St at San Jose Ave', 'Spear St at Folsom St',\n",
       "       '27th St at MLK Jr Way',\n",
       "       'San Francisco City Hall (Polk St at Grove St)',\n",
       "       '22nd St at Dolores St', 'Frank H Ogawa Plaza',\n",
       "       'Shattuck Ave at 55th St', 'Golden Gate Ave at Franklin St',\n",
       "       'Broadway at 30th St', 'Bryant St at 15th St',\n",
       "       'Grand Ave at Webster St', 'Julian St at 6th St',\n",
       "       'Santa Clara St at 7th St', '14th St at Filbert St',\n",
       "       'Emeryville Town Hall', 'Cahill Park',\n",
       "       'Raymond Kimbell Playground', 'Autumn Parkway at Coleman Ave',\n",
       "       'Isabella St at San Pablo Ave', 'San Salvador St at 9th St',\n",
       "       'Telegraph Ave at 27th St', '13th St at Franklin St',\n",
       "       'Doyle St at 59th St', 'Jack London Square', 'SAP Center',\n",
       "       'Telegraph Ave at Alcatraz Ave', 'San Carlos St at Market St',\n",
       "       '10th St at University Ave', 'Ninth St at Heinz Ave',\n",
       "       'Market St at 40th St', '23rd Ave at Foothill Blvd',\n",
       "       'Bestor Art Park', '32nd St at Adeline St', 'DeFremery Park',\n",
       "       'San Pedro Square', 'San Salvador St at 1st St',\n",
       "       'Fulton St at Ashby Ave', 'Ninth St at Parker St',\n",
       "       'Taylor St at 9th St', 'Empire St at 1st St',\n",
       "       'Franklin St at 9th St', 'Webster St at 19th St', 'San Pablo Park',\n",
       "       'College Ave at Taft Ave', 'Market St at 8th St', 'Snow Park',\n",
       "       'San Antonio Park', 'San Jose City Hall',\n",
       "       'Delmas Ave and San Fernando St', 'Mendell St at Fairfax Ave',\n",
       "       'Santa Clara St at Almaden Blvd', 'College Ave at Bryant Ave',\n",
       "       'Foothill Blvd at Fruitvale Ave', 'Palm St at Willow St',\n",
       "       'Saint James Park', 'Williams Ave at 3rd St',\n",
       "       'Market St at Park St', 'Almaden Blvd at Balbach St',\n",
       "       'Almaden Blvd at San Fernando St', 'Foothill Blvd at 42nd Ave',\n",
       "       'Fruitvale BART Station', 'MacArthur Blvd at Telegraph Ave',\n",
       "       'Williams Ave at Apollo St', 'Mission St at 1st St',\n",
       "       'San Pedro St at Hedding St', 'Oak St at 1st St',\n",
       "       'Farnam St at Fruitvale Ave', '26th Ave at International Blvd',\n",
       "       '16th St Depot', '21st Ave at International Blvd',\n",
       "       'Willow St at Vine St', '2nd St at Folsom St'], dtype=object)"
      ]
     },
     "execution_count": 24,
     "metadata": {},
     "output_type": "execute_result"
    }
   ],
   "source": [
    "df.end_station_name.unique()"
   ]
  },
  {
   "cell_type": "code",
   "execution_count": 38,
   "metadata": {},
   "outputs": [
    {
     "data": {
      "text/html": [
       "<div>\n",
       "<style scoped>\n",
       "    .dataframe tbody tr th:only-of-type {\n",
       "        vertical-align: middle;\n",
       "    }\n",
       "\n",
       "    .dataframe tbody tr th {\n",
       "        vertical-align: top;\n",
       "    }\n",
       "\n",
       "    .dataframe thead th {\n",
       "        text-align: right;\n",
       "    }\n",
       "</style>\n",
       "<table border=\"1\" class=\"dataframe\">\n",
       "  <thead>\n",
       "    <tr style=\"text-align: right;\">\n",
       "      <th></th>\n",
       "      <th>duration_sec</th>\n",
       "      <th>start_time</th>\n",
       "      <th>end_time</th>\n",
       "      <th>start_station_id</th>\n",
       "      <th>start_station_name</th>\n",
       "      <th>start_station_latitude</th>\n",
       "      <th>start_station_longitude</th>\n",
       "      <th>end_station_id</th>\n",
       "      <th>end_station_name</th>\n",
       "      <th>end_station_latitude</th>\n",
       "      <th>end_station_longitude</th>\n",
       "      <th>bike_id</th>\n",
       "      <th>user_type</th>\n",
       "      <th>member_birth_year</th>\n",
       "      <th>member_gender</th>\n",
       "      <th>bike_share_for_all_trip</th>\n",
       "    </tr>\n",
       "  </thead>\n",
       "  <tbody>\n",
       "    <tr>\n",
       "      <th>58795</th>\n",
       "      <td>716</td>\n",
       "      <td>2019-02-20 22:28:25.9700</td>\n",
       "      <td>2019-02-20 22:40:22.8700</td>\n",
       "      <td>NaN</td>\n",
       "      <td>NaN</td>\n",
       "      <td>37.41</td>\n",
       "      <td>-121.94</td>\n",
       "      <td>NaN</td>\n",
       "      <td>NaN</td>\n",
       "      <td>37.41</td>\n",
       "      <td>-121.95</td>\n",
       "      <td>4239</td>\n",
       "      <td>Customer</td>\n",
       "      <td>NaN</td>\n",
       "      <td>NaN</td>\n",
       "      <td>No</td>\n",
       "    </tr>\n",
       "    <tr>\n",
       "      <th>59280</th>\n",
       "      <td>740</td>\n",
       "      <td>2019-02-20 20:35:21.0110</td>\n",
       "      <td>2019-02-20 20:47:41.5620</td>\n",
       "      <td>NaN</td>\n",
       "      <td>NaN</td>\n",
       "      <td>37.41</td>\n",
       "      <td>-121.96</td>\n",
       "      <td>NaN</td>\n",
       "      <td>NaN</td>\n",
       "      <td>37.41</td>\n",
       "      <td>-121.94</td>\n",
       "      <td>4239</td>\n",
       "      <td>Customer</td>\n",
       "      <td>NaN</td>\n",
       "      <td>NaN</td>\n",
       "      <td>No</td>\n",
       "    </tr>\n",
       "  </tbody>\n",
       "</table>\n",
       "</div>"
      ],
      "text/plain": [
       "       duration_sec                start_time                  end_time  \\\n",
       "58795           716  2019-02-20 22:28:25.9700  2019-02-20 22:40:22.8700   \n",
       "59280           740  2019-02-20 20:35:21.0110  2019-02-20 20:47:41.5620   \n",
       "\n",
       "       start_station_id start_station_name  start_station_latitude  \\\n",
       "58795               NaN                NaN                   37.41   \n",
       "59280               NaN                NaN                   37.41   \n",
       "\n",
       "       start_station_longitude  end_station_id end_station_name  \\\n",
       "58795                  -121.94             NaN              NaN   \n",
       "59280                  -121.96             NaN              NaN   \n",
       "\n",
       "       end_station_latitude  end_station_longitude  bike_id user_type  \\\n",
       "58795                 37.41                -121.95     4239  Customer   \n",
       "59280                 37.41                -121.94     4239  Customer   \n",
       "\n",
       "       member_birth_year member_gender bike_share_for_all_trip  \n",
       "58795                NaN           NaN                      No  \n",
       "59280                NaN           NaN                      No  "
      ]
     },
     "execution_count": 38,
     "metadata": {},
     "output_type": "execute_result"
    }
   ],
   "source": [
    "df[df['start_station_id'].isnull() & df['member_birth_year'].isnull()]"
   ]
  },
  {
   "cell_type": "markdown",
   "metadata": {},
   "source": [
    "##### Data Wrangling steps\n",
    "- Fix `start_time` and `end_time` datatype\n",
    "- "
   ]
  },
  {
   "cell_type": "code",
   "execution_count": null,
   "metadata": {},
   "outputs": [],
   "source": [
    "df['start_time'] = df['start_time']"
   ]
  },
  {
   "cell_type": "code",
   "execution_count": null,
   "metadata": {},
   "outputs": [],
   "source": []
  },
  {
   "cell_type": "code",
   "execution_count": null,
   "metadata": {},
   "outputs": [],
   "source": []
  },
  {
   "cell_type": "markdown",
   "metadata": {},
   "source": [
    "### What is the structure of your dataset?\n",
    "\n",
    "> The data consists of 183412 rows and 16 columns\n",
    "\n",
    "### What is/are the main feature(s) of interest in your dataset?\n",
    "\n",
    "> The user type, gender, member birth year\n",
    "\n",
    "### What features in the dataset do you think will help support your investigation into your feature(s) of interest?\n",
    "\n",
    "> Your answer here!"
   ]
  },
  {
   "cell_type": "markdown",
   "metadata": {},
   "source": [
    "## Univariate Exploration\n",
    "\n",
    "> In this section, investigate distributions of individual variables. If\n",
    "you see unusual points or outliers, take a deeper look to clean things up\n",
    "and prepare yourself to look at relationships between variables."
   ]
  },
  {
   "cell_type": "code",
   "execution_count": 20,
   "metadata": {},
   "outputs": [
    {
     "data": {
      "text/plain": [
       "<AxesSubplot:>"
      ]
     },
     "execution_count": 20,
     "metadata": {},
     "output_type": "execute_result"
    },
    {
     "data": {
      "image/png": "[encoded data removed]",
      "text/plain": [
       "<Figure size 432x288 with 1 Axes>"
      ]
     },
     "metadata": {
      "needs_background": "light"
     },
     "output_type": "display_data"
    }
   ],
   "source": [
    "df.user_type.hist()"
   ]
  },
  {
   "cell_type": "markdown",
   "metadata": {},
   "source": [
    "> Make sure that, after every plot or related series of plots, that you\n",
    "include a Markdown cell with comments about what you observed, and what\n",
    "you plan on investigating next."
   ]
  },
  {
   "cell_type": "code",
   "execution_count": null,
   "metadata": {},
   "outputs": [],
   "source": []
  },
  {
   "cell_type": "markdown",
   "metadata": {},
   "source": [
    "### Discuss the distribution(s) of your variable(s) of interest. Were there any unusual points? Did you need to perform any transformations?\n",
    "\n",
    "> Your answer here!\n",
    "\n",
    "### Of the features you investigated, were there any unusual distributions? Did you perform any operations on the data to tidy, adjust, or change the form of the data? If so, why did you do this?\n",
    "\n",
    "> Your answer here!"
   ]
  },
  {
   "cell_type": "markdown",
   "metadata": {},
   "source": [
    "## Bivariate Exploration\n",
    "\n",
    "> In this section, investigate relationships between pairs of variables in your\n",
    "data. Make sure the variables that you cover here have been introduced in some\n",
    "fashion in the previous section (univariate exploration)."
   ]
  },
  {
   "cell_type": "code",
   "execution_count": null,
   "metadata": {},
   "outputs": [],
   "source": []
  },
  {
   "cell_type": "markdown",
   "metadata": {},
   "source": [
    "### Talk about some of the relationships you observed in this part of the investigation. How did the feature(s) of interest vary with other features in the dataset?\n",
    "\n",
    "> Your answer here!\n",
    "\n",
    "### Did you observe any interesting relationships between the other features (not the main feature(s) of interest)?\n",
    "\n",
    "> Your answer here!"
   ]
  },
  {
   "cell_type": "markdown",
   "metadata": {},
   "source": [
    "## Multivariate Exploration\n",
    "\n",
    "> Create plots of three or more variables to investigate your data even\n",
    "further. Make sure that your investigations are justified, and follow from\n",
    "your work in the previous sections."
   ]
  },
  {
   "cell_type": "code",
   "execution_count": null,
   "metadata": {},
   "outputs": [],
   "source": []
  },
  {
   "cell_type": "markdown",
   "metadata": {},
   "source": [
    "### Talk about some of the relationships you observed in this part of the investigation. Were there features that strengthened each other in terms of looking at your feature(s) of interest?\n",
    "\n",
    "> Your answer here!\n",
    "\n",
    "### Were there any interesting or surprising interactions between features?\n",
    "\n",
    "> Your answer here!"
   ]
  },
  {
   "cell_type": "markdown",
   "metadata": {},
   "source": [
    "> At the end of your report, make sure that you export the notebook as an\n",
    "html file from the `File > Download as... > HTML` menu. Make sure you keep\n",
    "track of where the exported file goes, so you can put it in the same folder\n",
    "as this notebook for project submission. Also, make sure you remove all of\n",
    "the quote-formatted guide notes like this one before you finish your report!"
   ]
  },
  {
   "cell_type": "code",
   "execution_count": null,
   "metadata": {},
   "outputs": [],
   "source": []
  }
 ],
 "metadata": {
  "kernelspec": {
   "display_name": "Python 3",
   "language": "python",
   "name": "python3"
  },
  "language_info": {
   "codemirror_mode": {
    "name": "ipython",
    "version": 3
   },
   "file_extension": ".py",
   "mimetype": "text/x-python",
   "name": "python",
   "nbconvert_exporter": "python",
   "pygments_lexer": "ipython3",
   "version": "3.7.3"
  }
 },
 "nbformat": 4,
 "nbformat_minor": 2
}
